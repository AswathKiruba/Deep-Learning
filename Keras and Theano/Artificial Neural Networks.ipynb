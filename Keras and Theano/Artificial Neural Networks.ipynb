{
 "cells": [
  {
   "cell_type": "markdown",
   "metadata": {},
   "source": [
    "## Install libraries"
   ]
  },
  {
   "cell_type": "markdown",
   "metadata": {},
   "source": [
    "Theano is an open source numerical computation library very efficient for fast computation and is based on Numpy syntax. Can be runned on CPU and GPU\n",
    "\n",
    "Why GPU is preferred?\n",
    "    It is used for graphic purposes. In terms of power and efficiency it is higher. forward propagating and back propagation involves parallel computation.\n",
    "    \n",
    "Keras: It is a wrapper class. It is based on Theano and Tensorflow"
   ]
  },
  {
   "cell_type": "markdown",
   "metadata": {},
   "source": [
    "For Mac users: \n",
    " \n",
    "Open your main terminal or the Anaconda Prompt and enter the following commands: \n",
    " \n",
    "pip install theano pip install tensorflow pip install keras conda update --all \n",
    " \n",
    " \n",
    "For Windows and Linux users: \n",
    " \n",
    "In Spyder, go to Tools and Open Anaconda Prompt. Then enter the following commands: \n",
    "1. Create a new environment with Anaconda and Python 3.5:\n",
    "    conda create -n tensorflow python=3.5 anaconda \n",
    "2. Activate the environment: \n",
    "    activate tensorflow\n",
    "3. After this you can install Theano, TensorFlow and Keras: \n",
    "    conda install theano conda install mingw libpython pip install tensorflow pip install keras \n",
    "4. Update the packages: \n",
    "    conda update --all 5. Run Spyder: spyder \n",
    " \n",
    "To install TensorFlow on your GPU (optional): pip install tensorflow-gpu "
   ]
  },
  {
   "cell_type": "markdown",
   "metadata": {},
   "source": [
    "## Data Preprocessing"
   ]
  },
  {
   "cell_type": "code",
   "execution_count": 39,
   "metadata": {},
   "outputs": [],
   "source": [
    "# Importing the libraries\n",
    "import numpy as np\n",
    "import matplotlib.pyplot as plt\n",
    "import pandas as pd\n",
    "\n",
    "#Import encoders\n",
    "from sklearn.preprocessing import LabelEncoder, OneHotEncoder\n",
    "\n",
    "#Import data split\n",
    "from sklearn.cross_validation import train_test_split\n",
    "\n",
    "#Import standardisation\n",
    "from sklearn.preprocessing import StandardScaler\n",
    "\n",
    "# Import Neural Network Wrapper\n",
    "import keras\n",
    "\n",
    "#Sequential module is required to initialize our neural network.\n",
    "from keras.models import Sequential\n",
    "\n",
    "#Dense module is required to build layers of ANN.\n",
    "from keras.layers import Dense"
   ]
  },
  {
   "cell_type": "code",
   "execution_count": 54,
   "metadata": {},
   "outputs": [],
   "source": [
    "# Importing the dataset\n",
    "dataset = pd.read_csv('Churn_Modelling.csv')\n",
    "X = dataset.iloc[:, 3:13].values\n",
    "y = dataset.iloc[:, 13].values"
   ]
  },
  {
   "cell_type": "code",
   "execution_count": 55,
   "metadata": {},
   "outputs": [
    {
     "data": {
      "text/plain": [
       "array([[619, 'France', 'Female', ..., 1, 1, 101348.88],\n",
       "       [608, 'Spain', 'Female', ..., 0, 1, 112542.58],\n",
       "       [502, 'France', 'Female', ..., 1, 0, 113931.57],\n",
       "       ..., \n",
       "       [709, 'France', 'Female', ..., 0, 1, 42085.58],\n",
       "       [772, 'Germany', 'Male', ..., 1, 0, 92888.52],\n",
       "       [792, 'France', 'Female', ..., 1, 0, 38190.78]], dtype=object)"
      ]
     },
     "execution_count": 55,
     "metadata": {},
     "output_type": "execute_result"
    }
   ],
   "source": [
    "X"
   ]
  },
  {
   "cell_type": "code",
   "execution_count": 57,
   "metadata": {},
   "outputs": [
    {
     "data": {
      "text/plain": [
       "array([[  0.00000000e+00,   0.00000000e+00,   2.28000000e+02, ...,\n",
       "          1.00000000e+00,   1.00000000e+00,   1.01348880e+05],\n",
       "       [  1.00000000e+00,   0.00000000e+00,   2.17000000e+02, ...,\n",
       "          0.00000000e+00,   1.00000000e+00,   1.12542580e+05],\n",
       "       [  0.00000000e+00,   0.00000000e+00,   1.11000000e+02, ...,\n",
       "          1.00000000e+00,   0.00000000e+00,   1.13931570e+05],\n",
       "       ..., \n",
       "       [  0.00000000e+00,   0.00000000e+00,   3.18000000e+02, ...,\n",
       "          0.00000000e+00,   1.00000000e+00,   4.20855800e+04],\n",
       "       [  0.00000000e+00,   1.00000000e+00,   3.81000000e+02, ...,\n",
       "          1.00000000e+00,   0.00000000e+00,   9.28885200e+04],\n",
       "       [  0.00000000e+00,   0.00000000e+00,   4.01000000e+02, ...,\n",
       "          1.00000000e+00,   0.00000000e+00,   3.81907800e+04]])"
      ]
     },
     "execution_count": 57,
     "metadata": {},
     "output_type": "execute_result"
    }
   ],
   "source": [
    "# Encoding categorical data\n",
    "from sklearn.preprocessing import LabelEncoder, OneHotEncoder\n",
    "labelencoder_X_1 = LabelEncoder()\n",
    "\n",
    "X[:, 1] = labelencoder_X_1.fit_transform(X[:, 1])\n",
    "labelencoder_X_2 = LabelEncoder()\n",
    "X[:, 2] = labelencoder_X_2.fit_transform(X[:, 2])\n",
    "\n",
    "\n",
    "onehotencoder = OneHotEncoder(categorical_features = [1])\n",
    "X = onehotencoder.fit_transform(X).toarray()\n",
    "X = X[:, 1:]\n",
    "\n",
    "X"
   ]
  },
  {
   "cell_type": "code",
   "execution_count": 58,
   "metadata": {},
   "outputs": [],
   "source": [
    "# Splitting the dataset into the Training set and Test set\n",
    "\n",
    "X_train, X_test, y_train, y_test = train_test_split(X, y, test_size = 0.2, random_state = 0)"
   ]
  },
  {
   "cell_type": "code",
   "execution_count": 59,
   "metadata": {},
   "outputs": [],
   "source": [
    "# Feature Scaling\n",
    "\n",
    "sc = StandardScaler()\n",
    "X_train = sc.fit_transform(X_train)\n",
    "X_test = sc.transform(X_test)\n"
   ]
  },
  {
   "cell_type": "code",
   "execution_count": 60,
   "metadata": {},
   "outputs": [
    {
     "data": {
      "text/plain": [
       "array([[ 1.74309049, -0.5698444 ,  0.1692298 , ...,  0.64259497,\n",
       "        -1.03227043,  1.10643166],\n",
       "       [-0.57369368,  1.75486502, -2.30959   , ...,  0.64259497,\n",
       "         0.9687384 , -0.74866447],\n",
       "       [-0.57369368, -0.5698444 , -1.19412109, ...,  0.64259497,\n",
       "        -1.03227043,  1.48533467],\n",
       "       ..., \n",
       "       [-0.57369368, -0.5698444 ,  0.90254733, ...,  0.64259497,\n",
       "        -1.03227043,  1.41231994],\n",
       "       [ 1.74309049, -0.5698444 , -0.62605822, ...,  0.64259497,\n",
       "         0.9687384 ,  0.84432121],\n",
       "       [-0.57369368,  1.75486502, -0.28522049, ...,  0.64259497,\n",
       "        -1.03227043,  0.32472465]])"
      ]
     },
     "execution_count": 60,
     "metadata": {},
     "output_type": "execute_result"
    }
   ],
   "source": [
    "X_train"
   ]
  },
  {
   "cell_type": "code",
   "execution_count": 61,
   "metadata": {
    "collapsed": true
   },
   "outputs": [],
   "source": [
    "#Initialization of ANN\n",
    "classifier = Sequential()"
   ]
  },
  {
   "cell_type": "code",
   "execution_count": 63,
   "metadata": {},
   "outputs": [
    {
     "name": "stderr",
     "output_type": "stream",
     "text": [
      "C:\\Users\\aswat\\Anaconda3\\envs\\tensorflow\\lib\\site-packages\\ipykernel_launcher.py:2: UserWarning: Update your `Dense` call to the Keras 2 API: `Dense(kernel_initializer=\"uniform\", input_dim=11, units=6, activation=\"relu\")`\n",
      "  \n"
     ]
    }
   ],
   "source": [
    "# adding input layers and first hidden layer\n",
    "classifier.add(Dense(output_dim = 6, init = 'uniform', activation='relu', input_dim= 11))\n",
    "#init is for weights"
   ]
  },
  {
   "cell_type": "code",
   "execution_count": 64,
   "metadata": {},
   "outputs": [
    {
     "name": "stderr",
     "output_type": "stream",
     "text": [
      "C:\\Users\\aswat\\Anaconda3\\envs\\tensorflow\\lib\\site-packages\\ipykernel_launcher.py:2: UserWarning: Update your `Dense` call to the Keras 2 API: `Dense(kernel_initializer=\"uniform\", units=6, activation=\"relu\")`\n",
      "  \n"
     ]
    }
   ],
   "source": [
    "#adding second hidden layer\n",
    "classifier.add(Dense(output_dim = 6, init = 'uniform', activation='relu'))"
   ]
  },
  {
   "cell_type": "code",
   "execution_count": 65,
   "metadata": {},
   "outputs": [
    {
     "name": "stderr",
     "output_type": "stream",
     "text": [
      "C:\\Users\\aswat\\Anaconda3\\envs\\tensorflow\\lib\\site-packages\\ipykernel_launcher.py:2: UserWarning: Update your `Dense` call to the Keras 2 API: `Dense(kernel_initializer=\"uniform\", units=1, activation=\"sigmoid\")`\n",
      "  \n"
     ]
    }
   ],
   "source": [
    "#output layer\n",
    "classifier.add(Dense(output_dim = 1, init = 'uniform', activation='sigmoid'))"
   ]
  },
  {
   "cell_type": "code",
   "execution_count": 66,
   "metadata": {
    "collapsed": true
   },
   "outputs": [],
   "source": [
    "#compiling the ANN\n",
    "classifier.compile(optimizer='adam', loss='binary_crossentropy', metrics=['accuracy'])"
   ]
  },
  {
   "cell_type": "code",
   "execution_count": 67,
   "metadata": {},
   "outputs": [
    {
     "name": "stderr",
     "output_type": "stream",
     "text": [
      "C:\\Users\\aswat\\Anaconda3\\envs\\tensorflow\\lib\\site-packages\\keras\\models.py:939: UserWarning: The `nb_epoch` argument in `fit` has been renamed `epochs`.\n",
      "  warnings.warn('The `nb_epoch` argument in `fit` '\n"
     ]
    },
    {
     "name": "stdout",
     "output_type": "stream",
     "text": [
      "Epoch 1/100\n",
      "8000/8000 [==============================] - 2s 285us/step - loss: 0.4788 - acc: 0.7960\n",
      "Epoch 2/100\n",
      "8000/8000 [==============================] - 1s 171us/step - loss: 0.4282 - acc: 0.7960\n",
      "Epoch 3/100\n",
      "8000/8000 [==============================] - 1s 172us/step - loss: 0.4220 - acc: 0.8097\n",
      "Epoch 4/100\n",
      "8000/8000 [==============================] - 1s 172us/step - loss: 0.4187 - acc: 0.8214\n",
      "Epoch 5/100\n",
      "8000/8000 [==============================] - 1s 186us/step - loss: 0.4161 - acc: 0.8261\n",
      "Epoch 6/100\n",
      "8000/8000 [==============================] - 1s 171us/step - loss: 0.4144 - acc: 0.8287\n",
      "Epoch 7/100\n",
      "8000/8000 [==============================] - 2s 188us/step - loss: 0.4130 - acc: 0.8312\n",
      "Epoch 8/100\n",
      "8000/8000 [==============================] - 1s 168us/step - loss: 0.4116 - acc: 0.8335\n",
      "Epoch 9/100\n",
      "8000/8000 [==============================] - 2s 205us/step - loss: 0.4096 - acc: 0.8334\n",
      "Epoch 10/100\n",
      "8000/8000 [==============================] - 2s 192us/step - loss: 0.4095 - acc: 0.8341\n",
      "Epoch 11/100\n",
      "8000/8000 [==============================] - 2s 194us/step - loss: 0.4085 - acc: 0.8330\n",
      "Epoch 12/100\n",
      "8000/8000 [==============================] - 2s 189us/step - loss: 0.4075 - acc: 0.8332\n",
      "Epoch 13/100\n",
      "8000/8000 [==============================] - 2s 226us/step - loss: 0.4071 - acc: 0.8337\n",
      "Epoch 14/100\n",
      "8000/8000 [==============================] - 2s 191us/step - loss: 0.4070 - acc: 0.8335\n",
      "Epoch 15/100\n",
      "8000/8000 [==============================] - 2s 200us/step - loss: 0.4063 - acc: 0.8339\n",
      "Epoch 16/100\n",
      "8000/8000 [==============================] - 2s 237us/step - loss: 0.4055 - acc: 0.8335\n",
      "Epoch 17/100\n",
      "8000/8000 [==============================] - 2s 207us/step - loss: 0.4051 - acc: 0.8352\n",
      "Epoch 18/100\n",
      "8000/8000 [==============================] - 2s 205us/step - loss: 0.4053 - acc: 0.8352\n",
      "Epoch 19/100\n",
      "8000/8000 [==============================] - 2s 208us/step - loss: 0.4047 - acc: 0.8331\n",
      "Epoch 20/100\n",
      "8000/8000 [==============================] - 2s 257us/step - loss: 0.4043 - acc: 0.8359\n",
      "Epoch 21/100\n",
      "8000/8000 [==============================] - 2s 226us/step - loss: 0.4036 - acc: 0.8354\n",
      "Epoch 22/100\n",
      "8000/8000 [==============================] - 2s 196us/step - loss: 0.4041 - acc: 0.8352\n",
      "Epoch 23/100\n",
      "8000/8000 [==============================] - 2s 230us/step - loss: 0.4035 - acc: 0.8351\n",
      "Epoch 24/100\n",
      "8000/8000 [==============================] - 2s 194us/step - loss: 0.4037 - acc: 0.8322\n",
      "Epoch 25/100\n",
      "8000/8000 [==============================] - 2s 193us/step - loss: 0.4039 - acc: 0.8332\n",
      "Epoch 26/100\n",
      "8000/8000 [==============================] - 2s 233us/step - loss: 0.4021 - acc: 0.8352\n",
      "Epoch 27/100\n",
      "8000/8000 [==============================] - 2s 203us/step - loss: 0.4028 - acc: 0.8339\n",
      "Epoch 28/100\n",
      "8000/8000 [==============================] - 2s 194us/step - loss: 0.4033 - acc: 0.8341\n",
      "Epoch 29/100\n",
      "8000/8000 [==============================] - 2s 191us/step - loss: 0.4029 - acc: 0.8332\n",
      "Epoch 30/100\n",
      "8000/8000 [==============================] - 2s 245us/step - loss: 0.4030 - acc: 0.8337\n",
      "Epoch 31/100\n",
      "8000/8000 [==============================] - 2s 191us/step - loss: 0.4019 - acc: 0.8330\n",
      "Epoch 32/100\n",
      "8000/8000 [==============================] - 2s 195us/step - loss: 0.4023 - acc: 0.8346\n",
      "Epoch 33/100\n",
      "8000/8000 [==============================] - 2s 216us/step - loss: 0.4026 - acc: 0.8344\n",
      "Epoch 34/100\n",
      "8000/8000 [==============================] - 2s 205us/step - loss: 0.4023 - acc: 0.8331\n",
      "Epoch 35/100\n",
      "8000/8000 [==============================] - 2s 209us/step - loss: 0.4024 - acc: 0.8359\n",
      "Epoch 36/100\n",
      "8000/8000 [==============================] - 1s 187us/step - loss: 0.4016 - acc: 0.8334\n",
      "Epoch 37/100\n",
      "8000/8000 [==============================] - 2s 231us/step - loss: 0.4023 - acc: 0.8340\n",
      "Epoch 38/100\n",
      "8000/8000 [==============================] - 2s 195us/step - loss: 0.4022 - acc: 0.8344 1\n",
      "Epoch 39/100\n",
      "8000/8000 [==============================] - 2s 193us/step - loss: 0.4021 - acc: 0.8331\n",
      "Epoch 40/100\n",
      "8000/8000 [==============================] - 2s 220us/step - loss: 0.4020 - acc: 0.8340\n",
      "Epoch 41/100\n",
      "8000/8000 [==============================] - 2s 213us/step - loss: 0.4022 - acc: 0.8337\n",
      "Epoch 42/100\n",
      "8000/8000 [==============================] - 2s 191us/step - loss: 0.4015 - acc: 0.8341\n",
      "Epoch 43/100\n",
      "8000/8000 [==============================] - 2s 188us/step - loss: 0.4018 - acc: 0.8356\n",
      "Epoch 44/100\n",
      "8000/8000 [==============================] - 2s 237us/step - loss: 0.4019 - acc: 0.8344\n",
      "Epoch 45/100\n",
      "8000/8000 [==============================] - 2s 195us/step - loss: 0.4013 - acc: 0.8344\n",
      "Epoch 46/100\n",
      "8000/8000 [==============================] - 2s 189us/step - loss: 0.4016 - acc: 0.8346\n",
      "Epoch 47/100\n",
      "8000/8000 [==============================] - 2s 219us/step - loss: 0.4015 - acc: 0.8345\n",
      "Epoch 48/100\n",
      "8000/8000 [==============================] - 2s 206us/step - loss: 0.4017 - acc: 0.8354\n",
      "Epoch 49/100\n",
      "8000/8000 [==============================] - 2s 193us/step - loss: 0.4017 - acc: 0.8330\n",
      "Epoch 50/100\n",
      "8000/8000 [==============================] - 1s 171us/step - loss: 0.4014 - acc: 0.8361\n",
      "Epoch 51/100\n",
      "8000/8000 [==============================] - 2s 196us/step - loss: 0.4015 - acc: 0.8327\n",
      "Epoch 52/100\n",
      "8000/8000 [==============================] - 2s 189us/step - loss: 0.4009 - acc: 0.8349\n",
      "Epoch 53/100\n",
      "8000/8000 [==============================] - 2s 211us/step - loss: 0.4008 - acc: 0.8334\n",
      "Epoch 54/100\n",
      "8000/8000 [==============================] - 2s 190us/step - loss: 0.4009 - acc: 0.8335\n",
      "Epoch 55/100\n",
      "8000/8000 [==============================] - 2s 241us/step - loss: 0.4010 - acc: 0.8344\n",
      "Epoch 56/100\n",
      "8000/8000 [==============================] - 2s 195us/step - loss: 0.4015 - acc: 0.8346\n",
      "Epoch 57/100\n",
      "8000/8000 [==============================] - 2s 194us/step - loss: 0.4004 - acc: 0.8342\n",
      "Epoch 58/100\n",
      "8000/8000 [==============================] - 2s 262us/step - loss: 0.4014 - acc: 0.8337\n",
      "Epoch 59/100\n",
      "8000/8000 [==============================] - 2s 234us/step - loss: 0.4013 - acc: 0.8335\n",
      "Epoch 60/100\n",
      "8000/8000 [==============================] - 2s 203us/step - loss: 0.4005 - acc: 0.8339\n",
      "Epoch 61/100\n",
      "8000/8000 [==============================] - 2s 244us/step - loss: 0.4010 - acc: 0.8342\n",
      "Epoch 62/100\n",
      "8000/8000 [==============================] - 2s 221us/step - loss: 0.4003 - acc: 0.8345\n",
      "Epoch 63/100\n",
      "8000/8000 [==============================] - ETA: 0s - loss: 0.4008 - acc: 0.832 - 2s 191us/step - loss: 0.4017 - acc: 0.8329\n",
      "Epoch 64/100\n",
      "8000/8000 [==============================] - 2s 193us/step - loss: 0.4004 - acc: 0.8357\n",
      "Epoch 65/100\n",
      "8000/8000 [==============================] - 2s 236us/step - loss: 0.4012 - acc: 0.8352\n",
      "Epoch 66/100\n",
      "8000/8000 [==============================] - 1s 144us/step - loss: 0.4002 - acc: 0.8349\n",
      "Epoch 67/100\n",
      "8000/8000 [==============================] - 1s 148us/step - loss: 0.4007 - acc: 0.8337\n",
      "Epoch 68/100\n",
      "8000/8000 [==============================] - 1s 165us/step - loss: 0.4004 - acc: 0.8339\n",
      "Epoch 69/100\n",
      "8000/8000 [==============================] - 2s 218us/step - loss: 0.4004 - acc: 0.8347\n",
      "Epoch 70/100\n",
      "8000/8000 [==============================] - 1s 186us/step - loss: 0.4003 - acc: 0.8335\n",
      "Epoch 71/100\n",
      "8000/8000 [==============================] - 1s 147us/step - loss: 0.4001 - acc: 0.8346\n",
      "Epoch 72/100\n",
      "8000/8000 [==============================] - 1s 187us/step - loss: 0.4000 - acc: 0.8352\n",
      "Epoch 73/100\n",
      "8000/8000 [==============================] - 2s 194us/step - loss: 0.4001 - acc: 0.8347\n",
      "Epoch 74/100\n",
      "8000/8000 [==============================] - 1s 144us/step - loss: 0.3997 - acc: 0.8354\n",
      "Epoch 75/100\n",
      "8000/8000 [==============================] - 2s 195us/step - loss: 0.3997 - acc: 0.8351\n",
      "Epoch 76/100\n",
      "8000/8000 [==============================] - 1s 181us/step - loss: 0.3996 - acc: 0.8347\n",
      "Epoch 77/100\n",
      "8000/8000 [==============================] - 1s 169us/step - loss: 0.3991 - acc: 0.8352\n",
      "Epoch 78/100\n",
      "8000/8000 [==============================] - 1s 150us/step - loss: 0.3999 - acc: 0.8342\n",
      "Epoch 79/100\n",
      "8000/8000 [==============================] - 1s 147us/step - loss: 0.3985 - acc: 0.8349\n",
      "Epoch 80/100\n",
      "8000/8000 [==============================] - 1s 152us/step - loss: 0.3984 - acc: 0.8315\n",
      "Epoch 81/100\n"
     ]
    },
    {
     "name": "stdout",
     "output_type": "stream",
     "text": [
      "8000/8000 [==============================] - 1s 176us/step - loss: 0.3983 - acc: 0.8364\n",
      "Epoch 82/100\n",
      "8000/8000 [==============================] - 1s 171us/step - loss: 0.3978 - acc: 0.8359\n",
      "Epoch 83/100\n",
      "8000/8000 [==============================] - 1s 157us/step - loss: 0.3983 - acc: 0.8365\n",
      "Epoch 84/100\n",
      "8000/8000 [==============================] - 1s 173us/step - loss: 0.3980 - acc: 0.8359\n",
      "Epoch 85/100\n",
      "8000/8000 [==============================] - 2s 188us/step - loss: 0.3976 - acc: 0.8342\n",
      "Epoch 86/100\n",
      "8000/8000 [==============================] - 2s 189us/step - loss: 0.3969 - acc: 0.8367\n",
      "Epoch 87/100\n",
      "8000/8000 [==============================] - 1s 179us/step - loss: 0.3974 - acc: 0.8370\n",
      "Epoch 88/100\n",
      "8000/8000 [==============================] - 1s 178us/step - loss: 0.3975 - acc: 0.8367\n",
      "Epoch 89/100\n",
      "8000/8000 [==============================] - 1s 169us/step - loss: 0.3977 - acc: 0.8361\n",
      "Epoch 90/100\n",
      "8000/8000 [==============================] - 1s 163us/step - loss: 0.3973 - acc: 0.8339\n",
      "Epoch 91/100\n",
      "8000/8000 [==============================] - 1s 153us/step - loss: 0.3973 - acc: 0.8351\n",
      "Epoch 92/100\n",
      "8000/8000 [==============================] - 1s 157us/step - loss: 0.3975 - acc: 0.8349\n",
      "Epoch 93/100\n",
      "8000/8000 [==============================] - 1s 179us/step - loss: 0.3969 - acc: 0.8335\n",
      "Epoch 94/100\n",
      "8000/8000 [==============================] - 2s 192us/step - loss: 0.3971 - acc: 0.8374\n",
      "Epoch 95/100\n",
      "8000/8000 [==============================] - 1s 170us/step - loss: 0.3967 - acc: 0.8352\n",
      "Epoch 96/100\n",
      "8000/8000 [==============================] - 1s 175us/step - loss: 0.3968 - acc: 0.8365\n",
      "Epoch 97/100\n",
      "8000/8000 [==============================] - 1s 171us/step - loss: 0.3977 - acc: 0.8349\n",
      "Epoch 98/100\n",
      "8000/8000 [==============================] - 1s 179us/step - loss: 0.3970 - acc: 0.8371\n",
      "Epoch 99/100\n",
      "8000/8000 [==============================] - 1s 174us/step - loss: 0.3961 - acc: 0.8361\n",
      "Epoch 100/100\n",
      "8000/8000 [==============================] - 1s 171us/step - loss: 0.3966 - acc: 0.8349\n"
     ]
    },
    {
     "data": {
      "text/plain": [
       "<keras.callbacks.History at 0x1fe58853a20>"
      ]
     },
     "execution_count": 67,
     "metadata": {},
     "output_type": "execute_result"
    }
   ],
   "source": [
    "#fit \n",
    "classifier.fit(X_train, y_train, batch_size = 10 , nb_epoch=100)"
   ]
  },
  {
   "cell_type": "code",
   "execution_count": 72,
   "metadata": {},
   "outputs": [
    {
     "data": {
      "text/plain": [
       "array([[False],\n",
       "       [False],\n",
       "       [False],\n",
       "       ..., \n",
       "       [False],\n",
       "       [False],\n",
       "       [False]], dtype=bool)"
      ]
     },
     "execution_count": 72,
     "metadata": {},
     "output_type": "execute_result"
    }
   ],
   "source": [
    "#Predict\n",
    "y_pred = classifier.predict(X_test)\n",
    "\n",
    "y_pred = (y_pred > 0.5)\n",
    "y_pred"
   ]
  },
  {
   "cell_type": "code",
   "execution_count": 74,
   "metadata": {},
   "outputs": [
    {
     "data": {
      "text/plain": [
       "array([[1539,   56],\n",
       "       [ 251,  154]], dtype=int64)"
      ]
     },
     "execution_count": 74,
     "metadata": {},
     "output_type": "execute_result"
    }
   ],
   "source": [
    "#Confusion MAtrix\n",
    "from sklearn.metrics import confusion_matrix\n",
    "cm = confusion_matrix(y_test, y_pred)\n",
    "    "
   ]
  },
  {
   "cell_type": "code",
   "execution_count": 75,
   "metadata": {},
   "outputs": [
    {
     "data": {
      "text/plain": [
       "0.8465"
      ]
     },
     "execution_count": 75,
     "metadata": {},
     "output_type": "execute_result"
    }
   ],
   "source": [
    "(1539+154)/2000"
   ]
  },
  {
   "cell_type": "code",
   "execution_count": 76,
   "metadata": {},
   "outputs": [
    {
     "name": "stderr",
     "output_type": "stream",
     "text": [
      "C:\\Users\\aswat\\Anaconda3\\envs\\tensorflow\\lib\\site-packages\\sklearn\\utils\\validation.py:444: DataConversionWarning: Data with input dtype int32 was converted to float64 by StandardScaler.\n",
      "  warnings.warn(msg, DataConversionWarning)\n"
     ]
    }
   ],
   "source": [
    "new_prediction = classifier.predict(sc.fit_transform(np.array([[0,0,600,1,40,3,60000,2,1,1,50000]])))"
   ]
  },
  {
   "cell_type": "code",
   "execution_count": 77,
   "metadata": {},
   "outputs": [
    {
     "data": {
      "text/plain": [
       "array([[ 0.3920522]], dtype=float32)"
      ]
     },
     "execution_count": 77,
     "metadata": {},
     "output_type": "execute_result"
    }
   ],
   "source": [
    "new_prediction"
   ]
  },
  {
   "cell_type": "code",
   "execution_count": 78,
   "metadata": {
    "collapsed": true
   },
   "outputs": [],
   "source": [
    "new_prediction = new_prediction>0.5"
   ]
  },
  {
   "cell_type": "code",
   "execution_count": 79,
   "metadata": {},
   "outputs": [
    {
     "data": {
      "text/plain": [
       "array([[False]], dtype=bool)"
      ]
     },
     "execution_count": 79,
     "metadata": {},
     "output_type": "execute_result"
    }
   ],
   "source": [
    "new_prediction"
   ]
  },
  {
   "cell_type": "code",
   "execution_count": null,
   "metadata": {
    "collapsed": true
   },
   "outputs": [],
   "source": []
  }
 ],
 "metadata": {
  "kernelspec": {
   "display_name": "Python 3",
   "language": "python",
   "name": "python3"
  },
  "language_info": {
   "codemirror_mode": {
    "name": "ipython",
    "version": 3
   },
   "file_extension": ".py",
   "mimetype": "text/x-python",
   "name": "python",
   "nbconvert_exporter": "python",
   "pygments_lexer": "ipython3",
   "version": "3.5.4"
  }
 },
 "nbformat": 4,
 "nbformat_minor": 2
}
