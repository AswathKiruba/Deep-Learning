{
 "cells": [
  {
   "cell_type": "markdown",
   "metadata": {},
   "source": [
    "## Install libraries"
   ]
  },
  {
   "cell_type": "markdown",
   "metadata": {},
   "source": [
    "Theano is an open source numerical computation library very efficient for fast computation and is based on Numpy syntax. Can be runned on CPU and GPU\n",
    "\n",
    "Why GPU is preferred?\n",
    "    It is used for graphic purposes. In terms of power and efficiency it is higher. forward propagating and back propagation involves parallel computation.\n",
    "    \n",
    "Keras: It is a wrapper class. It is based on Theano and Tensorflow"
   ]
  },
  {
   "cell_type": "markdown",
   "metadata": {},
   "source": [
    "For Mac users: \n",
    " \n",
    "Open your main terminal or the Anaconda Prompt and enter the following commands: \n",
    " \n",
    "pip install theano pip install tensorflow pip install keras conda update --all \n",
    " \n",
    " \n",
    "For Windows and Linux users: \n",
    " \n",
    "In Spyder, go to Tools and Open Anaconda Prompt. Then enter the following commands: \n",
    "1. Create a new environment with Anaconda and Python 3.5:\n",
    "    conda create -n tensorflow python=3.5 anaconda \n",
    "2. Activate the environment: \n",
    "    activate tensorflow\n",
    "3. After this you can install Theano, TensorFlow and Keras: \n",
    "    conda install theano conda install mingw libpython pip install tensorflow pip install keras \n",
    "4. Update the packages: \n",
    "    conda update --all 5. Run Spyder: spyder \n",
    " \n",
    "To install TensorFlow on your GPU (optional): pip install tensorflow-gpu "
   ]
  },
  {
   "cell_type": "markdown",
   "metadata": {},
   "source": [
    "## Data Preprocessing"
   ]
  },
  {
   "cell_type": "code",
   "execution_count": 1,
   "metadata": {},
   "outputs": [
    {
     "name": "stderr",
     "output_type": "stream",
     "text": [
      "C:\\Users\\aswat\\Anaconda3\\envs\\tensorflow\\lib\\site-packages\\sklearn\\cross_validation.py:41: DeprecationWarning: This module was deprecated in version 0.18 in favor of the model_selection module into which all the refactored classes and functions are moved. Also note that the interface of the new CV iterators are different from that of this module. This module will be removed in 0.20.\n",
      "  \"This module will be removed in 0.20.\", DeprecationWarning)\n",
      "Using TensorFlow backend.\n"
     ]
    }
   ],
   "source": [
    "# Importing the libraries\n",
    "import numpy as np\n",
    "import matplotlib.pyplot as plt\n",
    "import pandas as pd\n",
    "\n",
    "#Import encoders\n",
    "from sklearn.preprocessing import LabelEncoder, OneHotEncoder\n",
    "\n",
    "#Import data split\n",
    "from sklearn.cross_validation import train_test_split\n",
    "\n",
    "#Import standardisation\n",
    "from sklearn.preprocessing import StandardScaler\n",
    "\n",
    "# Import Neural Network Wrapper\n",
    "import keras\n",
    "\n",
    "#Sequential module is required to initialize our neural network.\n",
    "from keras.models import Sequential\n",
    "\n",
    "#Dense module is required to build layers of ANN.\n",
    "from keras.layers import Dense"
   ]
  },
  {
   "cell_type": "code",
   "execution_count": 2,
   "metadata": {
    "collapsed": true
   },
   "outputs": [],
   "source": [
    "# Importing the dataset\n",
    "dataset = pd.read_csv('Churn_Modelling.csv')\n",
    "X = dataset.iloc[:, 3:13].values\n",
    "y = dataset.iloc[:, 13].values"
   ]
  },
  {
   "cell_type": "code",
   "execution_count": 3,
   "metadata": {},
   "outputs": [
    {
     "data": {
      "text/plain": [
       "array([[619, 'France', 'Female', ..., 1, 1, 101348.88],\n",
       "       [608, 'Spain', 'Female', ..., 0, 1, 112542.58],\n",
       "       [502, 'France', 'Female', ..., 1, 0, 113931.57],\n",
       "       ..., \n",
       "       [709, 'France', 'Female', ..., 0, 1, 42085.58],\n",
       "       [772, 'Germany', 'Male', ..., 1, 0, 92888.52],\n",
       "       [792, 'France', 'Female', ..., 1, 0, 38190.78]], dtype=object)"
      ]
     },
     "execution_count": 3,
     "metadata": {},
     "output_type": "execute_result"
    }
   ],
   "source": [
    "X"
   ]
  },
  {
   "cell_type": "code",
   "execution_count": 4,
   "metadata": {},
   "outputs": [
    {
     "data": {
      "text/plain": [
       "array([[  0.00000000e+00,   0.00000000e+00,   6.19000000e+02, ...,\n",
       "          1.00000000e+00,   1.00000000e+00,   1.01348880e+05],\n",
       "       [  0.00000000e+00,   1.00000000e+00,   6.08000000e+02, ...,\n",
       "          0.00000000e+00,   1.00000000e+00,   1.12542580e+05],\n",
       "       [  0.00000000e+00,   0.00000000e+00,   5.02000000e+02, ...,\n",
       "          1.00000000e+00,   0.00000000e+00,   1.13931570e+05],\n",
       "       ..., \n",
       "       [  0.00000000e+00,   0.00000000e+00,   7.09000000e+02, ...,\n",
       "          0.00000000e+00,   1.00000000e+00,   4.20855800e+04],\n",
       "       [  1.00000000e+00,   0.00000000e+00,   7.72000000e+02, ...,\n",
       "          1.00000000e+00,   0.00000000e+00,   9.28885200e+04],\n",
       "       [  0.00000000e+00,   0.00000000e+00,   7.92000000e+02, ...,\n",
       "          1.00000000e+00,   0.00000000e+00,   3.81907800e+04]])"
      ]
     },
     "execution_count": 4,
     "metadata": {},
     "output_type": "execute_result"
    }
   ],
   "source": [
    "# Encoding categorical data\n",
    "from sklearn.preprocessing import LabelEncoder, OneHotEncoder\n",
    "labelencoder_X_1 = LabelEncoder()\n",
    "\n",
    "X[:, 1] = labelencoder_X_1.fit_transform(X[:, 1])\n",
    "labelencoder_X_2 = LabelEncoder()\n",
    "X[:, 2] = labelencoder_X_2.fit_transform(X[:, 2])\n",
    "\n",
    "\n",
    "onehotencoder = OneHotEncoder(categorical_features = [1])\n",
    "X = onehotencoder.fit_transform(X).toarray()\n",
    "X = X[:, 1:]\n",
    "\n",
    "X"
   ]
  },
  {
   "cell_type": "code",
   "execution_count": 5,
   "metadata": {
    "collapsed": true
   },
   "outputs": [],
   "source": [
    "# Splitting the dataset into the Training set and Test set\n",
    "\n",
    "X_train, X_test, y_train, y_test = train_test_split(X, y, test_size = 0.2, random_state = 0)"
   ]
  },
  {
   "cell_type": "code",
   "execution_count": 6,
   "metadata": {
    "collapsed": true
   },
   "outputs": [],
   "source": [
    "# Feature Scaling\n",
    "\n",
    "sc = StandardScaler()\n",
    "X_train = sc.fit_transform(X_train)\n",
    "X_test = sc.transform(X_test)\n"
   ]
  },
  {
   "cell_type": "code",
   "execution_count": 7,
   "metadata": {},
   "outputs": [
    {
     "data": {
      "text/plain": [
       "array([[-0.5698444 ,  1.74309049,  0.16958176, ...,  0.64259497,\n",
       "        -1.03227043,  1.10643166],\n",
       "       [ 1.75486502, -0.57369368, -2.30455945, ...,  0.64259497,\n",
       "         0.9687384 , -0.74866447],\n",
       "       [-0.5698444 , -0.57369368, -1.19119591, ...,  0.64259497,\n",
       "        -1.03227043,  1.48533467],\n",
       "       ..., \n",
       "       [-0.5698444 , -0.57369368,  0.9015152 , ...,  0.64259497,\n",
       "        -1.03227043,  1.41231994],\n",
       "       [-0.5698444 ,  1.74309049, -0.62420521, ...,  0.64259497,\n",
       "         0.9687384 ,  0.84432121],\n",
       "       [ 1.75486502, -0.57369368, -0.28401079, ...,  0.64259497,\n",
       "        -1.03227043,  0.32472465]])"
      ]
     },
     "execution_count": 7,
     "metadata": {},
     "output_type": "execute_result"
    }
   ],
   "source": [
    "X_train"
   ]
  },
  {
   "cell_type": "code",
   "execution_count": 8,
   "metadata": {
    "collapsed": true
   },
   "outputs": [],
   "source": [
    "#Initialization of ANN\n",
    "classifier = Sequential()"
   ]
  },
  {
   "cell_type": "code",
   "execution_count": 9,
   "metadata": {},
   "outputs": [
    {
     "name": "stderr",
     "output_type": "stream",
     "text": [
      "C:\\Users\\aswat\\Anaconda3\\envs\\tensorflow\\lib\\site-packages\\ipykernel_launcher.py:2: UserWarning: Update your `Dense` call to the Keras 2 API: `Dense(kernel_initializer=\"uniform\", units=6, input_dim=11, activation=\"relu\")`\n",
      "  \n"
     ]
    }
   ],
   "source": [
    "# adding input layers and first hidden layer\n",
    "classifier.add(Dense(output_dim = 6, init = 'uniform', activation='relu', input_dim= 11))\n",
    "#init is for weights"
   ]
  },
  {
   "cell_type": "code",
   "execution_count": 10,
   "metadata": {},
   "outputs": [
    {
     "name": "stderr",
     "output_type": "stream",
     "text": [
      "C:\\Users\\aswat\\Anaconda3\\envs\\tensorflow\\lib\\site-packages\\ipykernel_launcher.py:2: UserWarning: Update your `Dense` call to the Keras 2 API: `Dense(kernel_initializer=\"uniform\", activation=\"relu\", units=6)`\n",
      "  \n"
     ]
    }
   ],
   "source": [
    "#adding second hidden layer\n",
    "classifier.add(Dense(output_dim = 6, init = 'uniform', activation='relu'))"
   ]
  },
  {
   "cell_type": "code",
   "execution_count": 11,
   "metadata": {},
   "outputs": [
    {
     "name": "stderr",
     "output_type": "stream",
     "text": [
      "C:\\Users\\aswat\\Anaconda3\\envs\\tensorflow\\lib\\site-packages\\ipykernel_launcher.py:2: UserWarning: Update your `Dense` call to the Keras 2 API: `Dense(kernel_initializer=\"uniform\", activation=\"sigmoid\", units=1)`\n",
      "  \n"
     ]
    }
   ],
   "source": [
    "#output layer\n",
    "classifier.add(Dense(output_dim = 1, init = 'uniform', activation='sigmoid'))"
   ]
  },
  {
   "cell_type": "code",
   "execution_count": 12,
   "metadata": {
    "collapsed": true
   },
   "outputs": [],
   "source": [
    "#compiling the ANN\n",
    "classifier.compile(optimizer='adam', loss='binary_crossentropy', metrics=['accuracy'])"
   ]
  },
  {
   "cell_type": "code",
   "execution_count": null,
   "metadata": {},
   "outputs": [
    {
     "name": "stderr",
     "output_type": "stream",
     "text": [
      "C:\\Users\\aswat\\Anaconda3\\envs\\tensorflow\\lib\\site-packages\\keras\\models.py:939: UserWarning: The `nb_epoch` argument in `fit` has been renamed `epochs`.\n",
      "  warnings.warn('The `nb_epoch` argument in `fit` '\n"
     ]
    },
    {
     "name": "stdout",
     "output_type": "stream",
     "text": [
      "Epoch 1/100\n",
      "8000/8000 [==============================] - 1s 151us/step - loss: 0.4861 - acc: 0.7956\n",
      "Epoch 2/100\n",
      "8000/8000 [==============================] - 1s 110us/step - loss: 0.4272 - acc: 0.7960\n",
      "Epoch 3/100\n",
      "8000/8000 [==============================] - 1s 108us/step - loss: 0.4208 - acc: 0.8055\n",
      "Epoch 4/100\n",
      "8000/8000 [==============================] - 1s 163us/step - loss: 0.4174 - acc: 0.8242\n",
      "Epoch 5/100\n",
      "8000/8000 [==============================] - 1s 126us/step - loss: 0.4151 - acc: 0.8271\n",
      "Epoch 6/100\n",
      "8000/8000 [==============================] - 1s 118us/step - loss: 0.4136 - acc: 0.8296\n",
      "Epoch 7/100\n",
      "8000/8000 [==============================] - 1s 124us/step - loss: 0.4119 - acc: 0.8311\n",
      "Epoch 8/100\n",
      "8000/8000 [==============================] - 1s 130us/step - loss: 0.4097 - acc: 0.8334\n",
      "Epoch 9/100\n",
      "8000/8000 [==============================] - 1s 126us/step - loss: 0.4064 - acc: 0.8339\n",
      "Epoch 10/100\n",
      "8000/8000 [==============================] - 1s 138us/step - loss: 0.4049 - acc: 0.8342\n",
      "Epoch 11/100\n",
      "8000/8000 [==============================] - 1s 124us/step - loss: 0.4028 - acc: 0.8352\n",
      "Epoch 12/100\n",
      "8000/8000 [==============================] - 1s 123us/step - loss: 0.4019 - acc: 0.8345\n",
      "Epoch 13/100\n",
      "8000/8000 [==============================] - 1s 115us/step - loss: 0.4003 - acc: 0.8350\n",
      "Epoch 14/100\n",
      "8000/8000 [==============================] - 1s 114us/step - loss: 0.3995 - acc: 0.8355\n",
      "Epoch 15/100\n",
      "8000/8000 [==============================] - 1s 157us/step - loss: 0.3990 - acc: 0.8336\n",
      "Epoch 16/100\n",
      "8000/8000 [==============================] - 1s 122us/step - loss: 0.3982 - acc: 0.8346\n",
      "Epoch 17/100\n",
      "8000/8000 [==============================] - 1s 115us/step - loss: 0.3979 - acc: 0.8357\n",
      "Epoch 18/100\n",
      "8000/8000 [==============================] - 1s 131us/step - loss: 0.3973 - acc: 0.8369\n",
      "Epoch 19/100\n",
      "8000/8000 [==============================] - 1s 140us/step - loss: 0.3973 - acc: 0.8359\n",
      "Epoch 20/100\n",
      "8000/8000 [==============================] - 1s 151us/step - loss: 0.3968 - acc: 0.8352\n",
      "Epoch 21/100\n",
      "8000/8000 [==============================] - 1s 144us/step - loss: 0.3964 - acc: 0.8355\n",
      "Epoch 22/100\n",
      "8000/8000 [==============================] - 1s 120us/step - loss: 0.3961 - acc: 0.8367\n",
      "Epoch 23/100\n",
      "8000/8000 [==============================] - 1s 136us/step - loss: 0.3960 - acc: 0.8370\n",
      "Epoch 24/100\n",
      "8000/8000 [==============================] - 1s 118us/step - loss: 0.3963 - acc: 0.8341\n",
      "Epoch 25/100\n",
      "8000/8000 [==============================] - 1s 118us/step - loss: 0.3959 - acc: 0.8362\n",
      "Epoch 26/100\n",
      "8000/8000 [==============================] - 1s 155us/step - loss: 0.3955 - acc: 0.8351 0s - loss: 0.4039 - acc\n",
      "Epoch 27/100\n",
      "8000/8000 [==============================] - 1s 134us/step - loss: 0.3951 - acc: 0.8371\n",
      "Epoch 28/100\n",
      "8000/8000 [==============================] - 1s 117us/step - loss: 0.3945 - acc: 0.8355\n",
      "Epoch 29/100\n",
      "8000/8000 [==============================] - 1s 117us/step - loss: 0.3949 - acc: 0.8376\n",
      "Epoch 30/100\n",
      "8000/8000 [==============================] - 1s 116us/step - loss: 0.3953 - acc: 0.8360\n",
      "Epoch 31/100\n",
      "8000/8000 [==============================] - 1s 168us/step - loss: 0.3945 - acc: 0.8382\n",
      "Epoch 32/100\n",
      "8000/8000 [==============================] - 1s 116us/step - loss: 0.3941 - acc: 0.8371\n",
      "Epoch 33/100\n",
      "8000/8000 [==============================] - 1s 116us/step - loss: 0.3940 - acc: 0.8372\n",
      "Epoch 34/100\n",
      "8000/8000 [==============================] - 1s 120us/step - loss: 0.3935 - acc: 0.8391\n",
      "Epoch 35/100\n",
      "8000/8000 [==============================] - 1s 132us/step - loss: 0.3925 - acc: 0.8360\n",
      "Epoch 36/100\n",
      "8000/8000 [==============================] - 1s 115us/step - loss: 0.3910 - acc: 0.8381\n",
      "Epoch 37/100\n",
      "8000/8000 [==============================] - 1s 153us/step - loss: 0.3903 - acc: 0.8402\n",
      "Epoch 38/100\n",
      "8000/8000 [==============================] - 1s 126us/step - loss: 0.3884 - acc: 0.8394\n",
      "Epoch 39/100\n",
      "8000/8000 [==============================] - 1s 131us/step - loss: 0.3852 - acc: 0.8390\n",
      "Epoch 40/100\n",
      "8000/8000 [==============================] - 1s 118us/step - loss: 0.3828 - acc: 0.8406\n",
      "Epoch 41/100\n",
      "8000/8000 [==============================] - 1s 123us/step - loss: 0.3793 - acc: 0.8396\n",
      "Epoch 42/100\n",
      "8000/8000 [==============================] - 1s 176us/step - loss: 0.3781 - acc: 0.8387\n",
      "Epoch 43/100\n",
      "8000/8000 [==============================] - 1s 124us/step - loss: 0.3762 - acc: 0.8397\n",
      "Epoch 44/100\n",
      "8000/8000 [==============================] - 1s 119us/step - loss: 0.3751 - acc: 0.8399\n",
      "Epoch 45/100\n",
      "8000/8000 [==============================] - 1s 125us/step - loss: 0.3742 - acc: 0.8386\n",
      "Epoch 46/100\n",
      "8000/8000 [==============================] - 1s 141us/step - loss: 0.3744 - acc: 0.8375\n",
      "Epoch 47/100\n",
      "8000/8000 [==============================] - 1s 148us/step - loss: 0.3730 - acc: 0.8397\n",
      "Epoch 48/100\n",
      "8000/8000 [==============================] - 1s 126us/step - loss: 0.3731 - acc: 0.8387\n",
      "Epoch 49/100\n",
      "8000/8000 [==============================] - 1s 122us/step - loss: 0.3730 - acc: 0.8382\n",
      "Epoch 50/100\n",
      "8000/8000 [==============================] - 1s 138us/step - loss: 0.3727 - acc: 0.8394\n",
      "Epoch 51/100\n",
      "8000/8000 [==============================] - 1s 126us/step - loss: 0.3720 - acc: 0.8400\n",
      "Epoch 52/100\n",
      "8000/8000 [==============================] - 1s 119us/step - loss: 0.3719 - acc: 0.8390\n",
      "Epoch 53/100\n",
      "8000/8000 [==============================] - 1s 165us/step - loss: 0.3713 - acc: 0.8406\n",
      "Epoch 54/100\n",
      "8000/8000 [==============================] - 1s 126us/step - loss: 0.3709 - acc: 0.8407\n",
      "Epoch 55/100\n",
      "8000/8000 [==============================] - 1s 117us/step - loss: 0.3710 - acc: 0.8381\n",
      "Epoch 56/100\n",
      "8000/8000 [==============================] - 1s 128us/step - loss: 0.3708 - acc: 0.8407\n",
      "Epoch 57/100\n",
      "8000/8000 [==============================] - 1s 129us/step - loss: 0.3704 - acc: 0.8380\n",
      "Epoch 58/100\n",
      "8000/8000 [==============================] - 1s 170us/step - loss: 0.3701 - acc: 0.8400\n",
      "Epoch 59/100\n",
      "8000/8000 [==============================] - 1s 118us/step - loss: 0.3704 - acc: 0.8380\n",
      "Epoch 60/100\n",
      "8000/8000 [==============================] - 1s 122us/step - loss: 0.3692 - acc: 0.8399\n",
      "Epoch 61/100\n",
      "8000/8000 [==============================] - 1s 137us/step - loss: 0.3698 - acc: 0.8410\n",
      "Epoch 62/100\n",
      "8000/8000 [==============================] - 1s 119us/step - loss: 0.3698 - acc: 0.8419\n",
      "Epoch 63/100\n",
      "8000/8000 [==============================] - 1s 157us/step - loss: 0.3694 - acc: 0.8420\n",
      "Epoch 64/100\n",
      "8000/8000 [==============================] - 1s 119us/step - loss: 0.3691 - acc: 0.8417\n",
      "Epoch 65/100\n",
      "8000/8000 [==============================] - 1s 139us/step - loss: 0.3691 - acc: 0.8414\n",
      "Epoch 66/100\n",
      "8000/8000 [==============================] - 1s 118us/step - loss: 0.3687 - acc: 0.8406\n",
      "Epoch 67/100\n",
      "8000/8000 [==============================] - 1s 118us/step - loss: 0.3691 - acc: 0.8410\n",
      "Epoch 68/100\n",
      "8000/8000 [==============================] - 1s 144us/step - loss: 0.3684 - acc: 0.8431\n",
      "Epoch 69/100\n",
      "8000/8000 [==============================] - 1s 160us/step - loss: 0.3685 - acc: 0.8420\n",
      "Epoch 70/100\n",
      "8000/8000 [==============================] - 1s 118us/step - loss: 0.3683 - acc: 0.8430\n",
      "Epoch 71/100\n",
      "8000/8000 [==============================] - 1s 124us/step - loss: 0.3677 - acc: 0.8441\n",
      "Epoch 72/100\n",
      "8000/8000 [==============================] - 1s 126us/step - loss: 0.3682 - acc: 0.8416\n",
      "Epoch 73/100\n",
      "8000/8000 [==============================] - 1s 132us/step - loss: 0.3683 - acc: 0.8431\n",
      "Epoch 74/100\n",
      "8000/8000 [==============================] - 1s 180us/step - loss: 0.3676 - acc: 0.8411\n",
      "Epoch 75/100\n",
      "8000/8000 [==============================] - 1s 137us/step - loss: 0.3677 - acc: 0.8429\n",
      "Epoch 76/100\n",
      "8000/8000 [==============================] - 1s 136us/step - loss: 0.3669 - acc: 0.8441\n",
      "Epoch 77/100\n",
      "8000/8000 [==============================] - 1s 122us/step - loss: 0.3676 - acc: 0.8465\n",
      "Epoch 78/100\n",
      "8000/8000 [==============================] - 1s 122us/step - loss: 0.3675 - acc: 0.8426\n",
      "Epoch 79/100\n",
      "3680/8000 [============>.................] - ETA: 0s - loss: 0.3645 - acc: 0.8432"
     ]
    }
   ],
   "source": [
    "#fit \n",
    "classifier.fit(X_train, y_train, batch_size = 10 , nb_epoch=100)"
   ]
  },
  {
   "cell_type": "code",
   "execution_count": 14,
   "metadata": {},
   "outputs": [
    {
     "data": {
      "text/plain": [
       "array([[False],\n",
       "       [False],\n",
       "       [False],\n",
       "       ..., \n",
       "       [False],\n",
       "       [False],\n",
       "       [False]], dtype=bool)"
      ]
     },
     "execution_count": 14,
     "metadata": {},
     "output_type": "execute_result"
    }
   ],
   "source": [
    "#Predict\n",
    "y_pred = classifier.predict(X_test)\n",
    "\n",
    "y_pred = (y_pred > 0.5)\n",
    "y_pred"
   ]
  },
  {
   "cell_type": "code",
   "execution_count": 15,
   "metadata": {},
   "outputs": [
    {
     "data": {
      "text/plain": [
       "array([[1477,  118],\n",
       "       [ 174,  231]], dtype=int64)"
      ]
     },
     "execution_count": 15,
     "metadata": {},
     "output_type": "execute_result"
    }
   ],
   "source": [
    "#Confusion MAtrix\n",
    "from sklearn.metrics import confusion_matrix\n",
    "cm = confusion_matrix(y_test, y_pred)\n",
    "cm"
   ]
  },
  {
   "cell_type": "code",
   "execution_count": 16,
   "metadata": {},
   "outputs": [
    {
     "data": {
      "text/plain": [
       "0.854"
      ]
     },
     "execution_count": 16,
     "metadata": {},
     "output_type": "execute_result"
    }
   ],
   "source": [
    "(1477+231)/2000"
   ]
  },
  {
   "cell_type": "code",
   "execution_count": 17,
   "metadata": {},
   "outputs": [
    {
     "name": "stderr",
     "output_type": "stream",
     "text": [
      "C:\\Users\\aswat\\Anaconda3\\envs\\tensorflow\\lib\\site-packages\\sklearn\\utils\\validation.py:444: DataConversionWarning: Data with input dtype int32 was converted to float64 by StandardScaler.\n",
      "  warnings.warn(msg, DataConversionWarning)\n"
     ]
    }
   ],
   "source": [
    "new_prediction = classifier.predict(sc.fit_transform(np.array([[0,0,600,1,40,3,60000,2,1,1,50000]])))"
   ]
  },
  {
   "cell_type": "code",
   "execution_count": 18,
   "metadata": {},
   "outputs": [
    {
     "data": {
      "text/plain": [
       "array([[ 0.06582124]], dtype=float32)"
      ]
     },
     "execution_count": 18,
     "metadata": {},
     "output_type": "execute_result"
    }
   ],
   "source": [
    "new_prediction"
   ]
  },
  {
   "cell_type": "code",
   "execution_count": 19,
   "metadata": {
    "collapsed": true
   },
   "outputs": [],
   "source": [
    "new_prediction = new_prediction>0.5"
   ]
  },
  {
   "cell_type": "code",
   "execution_count": 20,
   "metadata": {},
   "outputs": [
    {
     "data": {
      "text/plain": [
       "array([[False]], dtype=bool)"
      ]
     },
     "execution_count": 20,
     "metadata": {},
     "output_type": "execute_result"
    }
   ],
   "source": [
    "new_prediction"
   ]
  },
  {
   "cell_type": "markdown",
   "metadata": {},
   "source": [
    "## K Fold Cross Validation"
   ]
  },
  {
   "cell_type": "code",
   "execution_count": 21,
   "metadata": {
    "collapsed": true
   },
   "outputs": [],
   "source": [
    "from keras.wrappers.scikit_learn import KerasClassifier\n",
    "from sklearn.model_selection import cross_val_score"
   ]
  },
  {
   "cell_type": "code",
   "execution_count": 22,
   "metadata": {
    "collapsed": true
   },
   "outputs": [],
   "source": [
    "def build_classifier():\n",
    "    classifier = Sequential()\n",
    "    classifier.add(Dense(output_dim = 6, init = 'uniform', activation='relu', input_dim= 11))\n",
    "    classifier.add(Dense(output_dim = 6, init = 'uniform', activation='relu'))\n",
    "    classifier.add(Dense(output_dim = 1, init = 'uniform', activation='sigmoid'))\n",
    "    classifier.compile(optimizer='adam', loss='binary_crossentropy', metrics=['accuracy'])\n",
    "    return classifier\n"
   ]
  },
  {
   "cell_type": "code",
   "execution_count": 23,
   "metadata": {
    "collapsed": true
   },
   "outputs": [],
   "source": [
    "classifier = KerasClassifier(build_fn=build_classifier,batch_size = 10 , nb_epoch=100)"
   ]
  },
  {
   "cell_type": "code",
   "execution_count": null,
   "metadata": {
    "collapsed": true
   },
   "outputs": [],
   "source": [
    "accuracies = cross_val_score(estimator=classifier,X=X_train,y=y_train,cv=10,n_jobs=-1)"
   ]
  },
  {
   "cell_type": "code",
   "execution_count": null,
   "metadata": {
    "collapsed": true
   },
   "outputs": [],
   "source": [
    "mean = accuracies.mean()\n",
    "variance = accuracies.std()"
   ]
  },
  {
   "cell_type": "markdown",
   "metadata": {
    "collapsed": true
   },
   "source": [
    "## Regularization"
   ]
  },
  {
   "cell_type": "code",
   "execution_count": 24,
   "metadata": {
    "collapsed": true
   },
   "outputs": [],
   "source": [
    "from keras.layers import Dropout"
   ]
  },
  {
   "cell_type": "code",
   "execution_count": 26,
   "metadata": {
    "collapsed": true
   },
   "outputs": [],
   "source": [
    "#Initialization of ANN\n",
    "classifier = Sequential()"
   ]
  },
  {
   "cell_type": "code",
   "execution_count": 27,
   "metadata": {},
   "outputs": [
    {
     "name": "stderr",
     "output_type": "stream",
     "text": [
      "C:\\Users\\aswat\\Anaconda3\\envs\\tensorflow\\lib\\site-packages\\ipykernel_launcher.py:2: UserWarning: Update your `Dense` call to the Keras 2 API: `Dense(activation=\"relu\", units=6, input_dim=11, kernel_initializer=\"uniform\")`\n",
      "  \n",
      "C:\\Users\\aswat\\Anaconda3\\envs\\tensorflow\\lib\\site-packages\\ipykernel_launcher.py:3: UserWarning: Update your `Dropout` call to the Keras 2 API: `Dropout(rate=0.1)`\n",
      "  This is separate from the ipykernel package so we can avoid doing imports until\n"
     ]
    }
   ],
   "source": [
    "# adding input layers and first hidden layer\n",
    "classifier.add(Dense(output_dim = 6, init = 'uniform', activation='relu', input_dim= 11))\n",
    "classifier.add(Dropout(p=0.1))"
   ]
  },
  {
   "cell_type": "code",
   "execution_count": 28,
   "metadata": {},
   "outputs": [
    {
     "name": "stderr",
     "output_type": "stream",
     "text": [
      "C:\\Users\\aswat\\Anaconda3\\envs\\tensorflow\\lib\\site-packages\\ipykernel_launcher.py:2: UserWarning: Update your `Dense` call to the Keras 2 API: `Dense(activation=\"relu\", units=6, kernel_initializer=\"uniform\")`\n",
      "  \n"
     ]
    }
   ],
   "source": [
    "#adding second hidden layer\n",
    "classifier.add(Dense(output_dim = 6, init = 'uniform', activation='relu'))"
   ]
  },
  {
   "cell_type": "code",
   "execution_count": 29,
   "metadata": {},
   "outputs": [
    {
     "name": "stderr",
     "output_type": "stream",
     "text": [
      "C:\\Users\\aswat\\Anaconda3\\envs\\tensorflow\\lib\\site-packages\\ipykernel_launcher.py:2: UserWarning: Update your `Dense` call to the Keras 2 API: `Dense(activation=\"sigmoid\", units=1, kernel_initializer=\"uniform\")`\n",
      "  \n"
     ]
    }
   ],
   "source": [
    "#output layer\n",
    "classifier.add(Dense(output_dim = 1, init = 'uniform', activation='sigmoid'))"
   ]
  },
  {
   "cell_type": "code",
   "execution_count": 30,
   "metadata": {
    "collapsed": true
   },
   "outputs": [],
   "source": [
    "#compiling the ANN\n",
    "classifier.compile(optimizer='adam', loss='binary_crossentropy', metrics=['accuracy'])"
   ]
  },
  {
   "cell_type": "code",
   "execution_count": 31,
   "metadata": {},
   "outputs": [
    {
     "name": "stderr",
     "output_type": "stream",
     "text": [
      "C:\\Users\\aswat\\Anaconda3\\envs\\tensorflow\\lib\\site-packages\\keras\\models.py:939: UserWarning: The `nb_epoch` argument in `fit` has been renamed `epochs`.\n",
      "  warnings.warn('The `nb_epoch` argument in `fit` '\n"
     ]
    },
    {
     "name": "stdout",
     "output_type": "stream",
     "text": [
      "Epoch 1/100\n",
      "8000/8000 [==============================] - 2s 294us/step - loss: 0.6087 - acc: 0.7995\n",
      "Epoch 2/100\n",
      "8000/8000 [==============================] - 2s 213us/step - loss: 0.4889 - acc: 0.8346\n",
      "Epoch 3/100\n",
      "8000/8000 [==============================] - 1s 182us/step - loss: 0.4287 - acc: 0.8440\n",
      "Epoch 4/100\n",
      "8000/8000 [==============================] - 1s 171us/step - loss: 0.4024 - acc: 0.8440\n",
      "Epoch 5/100\n",
      "8000/8000 [==============================] - 1s 173us/step - loss: 0.3926 - acc: 0.8464\n",
      "Epoch 6/100\n",
      "8000/8000 [==============================] - 2s 220us/step - loss: 0.3852 - acc: 0.8425\n",
      "Epoch 7/100\n",
      "8000/8000 [==============================] - 1s 174us/step - loss: 0.3786 - acc: 0.8475\n",
      "Epoch 8/100\n",
      "8000/8000 [==============================] - 1s 177us/step - loss: 0.3758 - acc: 0.8456\n",
      "Epoch 9/100\n",
      "8000/8000 [==============================] - 1s 179us/step - loss: 0.3782 - acc: 0.8464\n",
      "Epoch 10/100\n",
      "8000/8000 [==============================] - 2s 228us/step - loss: 0.3760 - acc: 0.8450\n",
      "Epoch 11/100\n",
      "8000/8000 [==============================] - 1s 163us/step - loss: 0.3777 - acc: 0.8451\n",
      "Epoch 12/100\n",
      "8000/8000 [==============================] - 1s 164us/step - loss: 0.3785 - acc: 0.8447\n",
      "Epoch 13/100\n",
      "8000/8000 [==============================] - 1s 167us/step - loss: 0.3782 - acc: 0.8437\n",
      "Epoch 14/100\n",
      "8000/8000 [==============================] - 1s 178us/step - loss: 0.3733 - acc: 0.8506\n",
      "Epoch 15/100\n",
      "8000/8000 [==============================] - 1s 152us/step - loss: 0.3735 - acc: 0.8437\n",
      "Epoch 16/100\n",
      "8000/8000 [==============================] - 1s 162us/step - loss: 0.3745 - acc: 0.8439\n",
      "Epoch 17/100\n",
      "8000/8000 [==============================] - 1s 169us/step - loss: 0.3719 - acc: 0.8464\n",
      "Epoch 18/100\n",
      "8000/8000 [==============================] - 1s 185us/step - loss: 0.3750 - acc: 0.8447\n",
      "Epoch 19/100\n",
      "8000/8000 [==============================] - 1s 177us/step - loss: 0.3751 - acc: 0.8475\n",
      "Epoch 20/100\n",
      "8000/8000 [==============================] - 1s 187us/step - loss: 0.3722 - acc: 0.8479\n",
      "Epoch 21/100\n",
      "8000/8000 [==============================] - 1s 183us/step - loss: 0.3726 - acc: 0.8471\n",
      "Epoch 22/100\n",
      "8000/8000 [==============================] - 2s 209us/step - loss: 0.3719 - acc: 0.8490\n",
      "Epoch 23/100\n",
      "8000/8000 [==============================] - 1s 186us/step - loss: 0.3712 - acc: 0.8497\n",
      "Epoch 24/100\n",
      "8000/8000 [==============================] - 1s 173us/step - loss: 0.3681 - acc: 0.8479\n",
      "Epoch 25/100\n",
      "8000/8000 [==============================] - 1s 179us/step - loss: 0.3665 - acc: 0.8494\n",
      "Epoch 26/100\n",
      "8000/8000 [==============================] - 1s 184us/step - loss: 0.3655 - acc: 0.8496\n",
      "Epoch 27/100\n",
      "8000/8000 [==============================] - 1s 171us/step - loss: 0.3678 - acc: 0.8489\n",
      "Epoch 28/100\n",
      "8000/8000 [==============================] - 1s 171us/step - loss: 0.3664 - acc: 0.8520\n",
      "Epoch 29/100\n",
      "8000/8000 [==============================] - 1s 179us/step - loss: 0.3667 - acc: 0.8474\n",
      "Epoch 30/100\n",
      "8000/8000 [==============================] - 2s 189us/step - loss: 0.3703 - acc: 0.8469\n",
      "Epoch 31/100\n",
      "8000/8000 [==============================] - 2s 197us/step - loss: 0.3624 - acc: 0.8516\n",
      "Epoch 32/100\n",
      "8000/8000 [==============================] - 1s 176us/step - loss: 0.3687 - acc: 0.8480\n",
      "Epoch 33/100\n",
      "8000/8000 [==============================] - 2s 195us/step - loss: 0.3637 - acc: 0.8495\n",
      "Epoch 34/100\n",
      "8000/8000 [==============================] - 1s 159us/step - loss: 0.3641 - acc: 0.8505\n",
      "Epoch 35/100\n",
      "8000/8000 [==============================] - 1s 165us/step - loss: 0.3636 - acc: 0.8510\n",
      "Epoch 36/100\n",
      "8000/8000 [==============================] - 1s 176us/step - loss: 0.3609 - acc: 0.8536\n",
      "Epoch 37/100\n",
      "8000/8000 [==============================] - 2s 216us/step - loss: 0.3650 - acc: 0.8516\n",
      "Epoch 38/100\n",
      "8000/8000 [==============================] - 1s 168us/step - loss: 0.3661 - acc: 0.8469\n",
      "Epoch 39/100\n",
      "8000/8000 [==============================] - 1s 178us/step - loss: 0.3598 - acc: 0.8509\n",
      "Epoch 40/100\n",
      "8000/8000 [==============================] - 2s 188us/step - loss: 0.3619 - acc: 0.8510\n",
      "Epoch 41/100\n",
      "8000/8000 [==============================] - 2s 218us/step - loss: 0.3612 - acc: 0.8509\n",
      "Epoch 42/100\n",
      "8000/8000 [==============================] - 1s 181us/step - loss: 0.3631 - acc: 0.8501\n",
      "Epoch 43/100\n",
      "8000/8000 [==============================] - 1s 166us/step - loss: 0.3606 - acc: 0.8524\n",
      "Epoch 44/100\n",
      "8000/8000 [==============================] - 1s 167us/step - loss: 0.3649 - acc: 0.8504\n",
      "Epoch 45/100\n",
      "8000/8000 [==============================] - 2s 226us/step - loss: 0.3621 - acc: 0.8499\n",
      "Epoch 46/100\n",
      "8000/8000 [==============================] - 2s 188us/step - loss: 0.3640 - acc: 0.8489\n",
      "Epoch 47/100\n",
      "8000/8000 [==============================] - 1s 182us/step - loss: 0.3622 - acc: 0.8510\n",
      "Epoch 48/100\n",
      "8000/8000 [==============================] - 1s 170us/step - loss: 0.3574 - acc: 0.8539\n",
      "Epoch 49/100\n",
      "8000/8000 [==============================] - 2s 200us/step - loss: 0.3620 - acc: 0.8492\n",
      "Epoch 50/100\n",
      "8000/8000 [==============================] - 1s 178us/step - loss: 0.3561 - acc: 0.8522\n",
      "Epoch 51/100\n",
      "8000/8000 [==============================] - 1s 162us/step - loss: 0.3617 - acc: 0.8516\n",
      "Epoch 52/100\n",
      "8000/8000 [==============================] - 1s 161us/step - loss: 0.3627 - acc: 0.8496\n",
      "Epoch 53/100\n",
      "8000/8000 [==============================] - 2s 207us/step - loss: 0.3634 - acc: 0.8487\n",
      "Epoch 54/100\n",
      "8000/8000 [==============================] - 1s 164us/step - loss: 0.3610 - acc: 0.8486\n",
      "Epoch 55/100\n",
      "8000/8000 [==============================] - 1s 162us/step - loss: 0.3569 - acc: 0.8511\n",
      "Epoch 56/100\n",
      "8000/8000 [==============================] - 1s 165us/step - loss: 0.3596 - acc: 0.8507\n",
      "Epoch 57/100\n",
      "8000/8000 [==============================] - 2s 193us/step - loss: 0.3594 - acc: 0.8517\n",
      "Epoch 58/100\n",
      "8000/8000 [==============================] - 1s 161us/step - loss: 0.3639 - acc: 0.8499\n",
      "Epoch 59/100\n",
      "8000/8000 [==============================] - 1s 162us/step - loss: 0.3591 - acc: 0.8517\n",
      "Epoch 60/100\n",
      "8000/8000 [==============================] - 1s 156us/step - loss: 0.3577 - acc: 0.8521\n",
      "Epoch 61/100\n",
      "8000/8000 [==============================] - 1s 180us/step - loss: 0.3617 - acc: 0.8506\n",
      "Epoch 62/100\n",
      "8000/8000 [==============================] - 1s 184us/step - loss: 0.3653 - acc: 0.8450\n",
      "Epoch 63/100\n",
      "8000/8000 [==============================] - 1s 154us/step - loss: 0.3637 - acc: 0.8506\n",
      "Epoch 64/100\n",
      "8000/8000 [==============================] - 1s 162us/step - loss: 0.3593 - acc: 0.8511\n",
      "Epoch 65/100\n",
      "8000/8000 [==============================] - 1s 169us/step - loss: 0.3623 - acc: 0.8497\n",
      "Epoch 66/100\n",
      "8000/8000 [==============================] - 1s 187us/step - loss: 0.3576 - acc: 0.8534 0s - loss: 0.3557 - acc:\n",
      "Epoch 67/100\n",
      "8000/8000 [==============================] - 1s 163us/step - loss: 0.3613 - acc: 0.8472\n",
      "Epoch 68/100\n",
      "8000/8000 [==============================] - 1s 162us/step - loss: 0.3593 - acc: 0.8505\n",
      "Epoch 69/100\n",
      "8000/8000 [==============================] - 1s 158us/step - loss: 0.3601 - acc: 0.8531\n",
      "Epoch 70/100\n",
      "8000/8000 [==============================] - 2s 211us/step - loss: 0.3607 - acc: 0.8500\n",
      "Epoch 71/100\n",
      "8000/8000 [==============================] - 1s 161us/step - loss: 0.3620 - acc: 0.8519\n",
      "Epoch 72/100\n",
      "8000/8000 [==============================] - 1s 158us/step - loss: 0.3578 - acc: 0.8505\n",
      "Epoch 73/100\n",
      "8000/8000 [==============================] - 1s 161us/step - loss: 0.3619 - acc: 0.8472\n",
      "Epoch 74/100\n",
      "8000/8000 [==============================] - 2s 199us/step - loss: 0.3604 - acc: 0.8499\n",
      "Epoch 75/100\n",
      "8000/8000 [==============================] - 1s 155us/step - loss: 0.3585 - acc: 0.8526\n",
      "Epoch 76/100\n",
      "8000/8000 [==============================] - 1s 170us/step - loss: 0.3579 - acc: 0.8504\n",
      "Epoch 77/100\n",
      "8000/8000 [==============================] - 1s 157us/step - loss: 0.3596 - acc: 0.8514\n",
      "Epoch 78/100\n",
      "8000/8000 [==============================] - 2s 201us/step - loss: 0.3595 - acc: 0.8514\n",
      "Epoch 79/100\n",
      "8000/8000 [==============================] - 1s 166us/step - loss: 0.3618 - acc: 0.8509\n",
      "Epoch 80/100\n",
      "8000/8000 [==============================] - 1s 155us/step - loss: 0.3617 - acc: 0.8516\n",
      "Epoch 81/100\n",
      "8000/8000 [==============================] - 1s 155us/step - loss: 0.3562 - acc: 0.8521\n"
     ]
    },
    {
     "name": "stdout",
     "output_type": "stream",
     "text": [
      "Epoch 82/100\n",
      "8000/8000 [==============================] - 2s 197us/step - loss: 0.3575 - acc: 0.8505\n",
      "Epoch 83/100\n",
      "8000/8000 [==============================] - 1s 168us/step - loss: 0.3610 - acc: 0.8517\n",
      "Epoch 84/100\n",
      "8000/8000 [==============================] - 1s 164us/step - loss: 0.3573 - acc: 0.8534\n",
      "Epoch 85/100\n",
      "8000/8000 [==============================] - 1s 167us/step - loss: 0.3565 - acc: 0.8520\n",
      "Epoch 86/100\n",
      "8000/8000 [==============================] - 2s 189us/step - loss: 0.3609 - acc: 0.8534\n",
      "Epoch 87/100\n",
      "8000/8000 [==============================] - 1s 171us/step - loss: 0.3622 - acc: 0.8495\n",
      "Epoch 88/100\n",
      "8000/8000 [==============================] - 1s 168us/step - loss: 0.3630 - acc: 0.8507\n",
      "Epoch 89/100\n",
      "8000/8000 [==============================] - 1s 165us/step - loss: 0.3564 - acc: 0.8527\n",
      "Epoch 90/100\n",
      "8000/8000 [==============================] - 1s 186us/step - loss: 0.3567 - acc: 0.8541\n",
      "Epoch 91/100\n",
      "8000/8000 [==============================] - 1s 178us/step - loss: 0.3596 - acc: 0.8534\n",
      "Epoch 92/100\n",
      "8000/8000 [==============================] - 1s 175us/step - loss: 0.3605 - acc: 0.8490\n",
      "Epoch 93/100\n",
      "8000/8000 [==============================] - 1s 177us/step - loss: 0.3602 - acc: 0.8497\n",
      "Epoch 94/100\n",
      "8000/8000 [==============================] - 2s 209us/step - loss: 0.3596 - acc: 0.8510\n",
      "Epoch 95/100\n",
      "8000/8000 [==============================] - 1s 176us/step - loss: 0.3603 - acc: 0.8481\n",
      "Epoch 96/100\n",
      "8000/8000 [==============================] - 1s 166us/step - loss: 0.3608 - acc: 0.8500\n",
      "Epoch 97/100\n",
      "8000/8000 [==============================] - 1s 168us/step - loss: 0.3614 - acc: 0.8500\n",
      "Epoch 98/100\n",
      "8000/8000 [==============================] - 2s 199us/step - loss: 0.3567 - acc: 0.8481\n",
      "Epoch 99/100\n",
      "8000/8000 [==============================] - 1s 164us/step - loss: 0.3601 - acc: 0.8506\n",
      "Epoch 100/100\n",
      "8000/8000 [==============================] - 1s 164us/step - loss: 0.3585 - acc: 0.8519\n"
     ]
    },
    {
     "data": {
      "text/plain": [
       "<keras.callbacks.History at 0x1bed6877e80>"
      ]
     },
     "execution_count": 31,
     "metadata": {},
     "output_type": "execute_result"
    }
   ],
   "source": [
    "#fit \n",
    "classifier.fit(X_train, y_train, batch_size = 10 , nb_epoch=100)"
   ]
  },
  {
   "cell_type": "markdown",
   "metadata": {},
   "source": [
    "## Grid Search"
   ]
  },
  {
   "cell_type": "code",
   "execution_count": 32,
   "metadata": {
    "collapsed": true
   },
   "outputs": [],
   "source": [
    "#Tuning the ANN"
   ]
  },
  {
   "cell_type": "code",
   "execution_count": 8,
   "metadata": {
    "collapsed": true
   },
   "outputs": [],
   "source": [
    "from keras.wrappers.scikit_learn import KerasClassifier\n",
    "from sklearn.model_selection import GridSearchCV"
   ]
  },
  {
   "cell_type": "code",
   "execution_count": 9,
   "metadata": {
    "collapsed": true
   },
   "outputs": [],
   "source": [
    "def build_classifier(optimizer):\n",
    "    classifier = Sequential()\n",
    "    classifier.add(Dense(output_dim = 6, init = 'uniform', activation='relu', input_dim= 11))\n",
    "    classifier.add(Dense(output_dim = 6, init = 'uniform', activation='relu'))\n",
    "    classifier.add(Dense(output_dim = 1, init = 'uniform', activation='sigmoid'))\n",
    "    classifier.compile(optimizer=optimizer, loss='binary_crossentropy', metrics=['accuracy'])\n",
    "    return classifier\n"
   ]
  },
  {
   "cell_type": "code",
   "execution_count": 10,
   "metadata": {
    "collapsed": true
   },
   "outputs": [],
   "source": [
    "classifier = KerasClassifier(build_fn=build_classifier)"
   ]
  },
  {
   "cell_type": "code",
   "execution_count": 11,
   "metadata": {
    "collapsed": true
   },
   "outputs": [],
   "source": [
    "parameters = {'batch_size': [25,32], \n",
    "              'nb_epoch' : [100,500],\n",
    "              'optimizer':['adam','rmsprop']}"
   ]
  },
  {
   "cell_type": "code",
   "execution_count": 12,
   "metadata": {
    "collapsed": true
   },
   "outputs": [],
   "source": [
    "grid_search = GridSearchCV(estimator=classifier,\n",
    "                          param_grid = parameters,\n",
    "                          scoring = 'accuracy',\n",
    "                          cv =10)"
   ]
  },
  {
   "cell_type": "code",
   "execution_count": 13,
   "metadata": {},
   "outputs": [
    {
     "name": "stderr",
     "output_type": "stream",
     "text": [
      "C:\\Users\\aswat\\Anaconda3\\envs\\tensorflow\\lib\\site-packages\\ipykernel_launcher.py:3: UserWarning: Update your `Dense` call to the Keras 2 API: `Dense(activation=\"relu\", kernel_initializer=\"uniform\", input_dim=11, units=6)`\n",
      "  This is separate from the ipykernel package so we can avoid doing imports until\n",
      "C:\\Users\\aswat\\Anaconda3\\envs\\tensorflow\\lib\\site-packages\\ipykernel_launcher.py:4: UserWarning: Update your `Dense` call to the Keras 2 API: `Dense(kernel_initializer=\"uniform\", activation=\"relu\", units=6)`\n",
      "  after removing the cwd from sys.path.\n",
      "C:\\Users\\aswat\\Anaconda3\\envs\\tensorflow\\lib\\site-packages\\ipykernel_launcher.py:5: UserWarning: Update your `Dense` call to the Keras 2 API: `Dense(kernel_initializer=\"uniform\", activation=\"sigmoid\", units=1)`\n",
      "  \"\"\"\n"
     ]
    },
    {
     "name": "stdout",
     "output_type": "stream",
     "text": [
      "Epoch 1/1\n",
      "7200/7200 [==============================] - 1s 98us/step - loss: 0.5885 - acc: 0.7951\n",
      "800/800 [==============================] - 0s 43us/step\n",
      "7200/7200 [==============================] - 0s 18us/step\n",
      "Epoch 1/1\n",
      "7200/7200 [==============================] - 1s 132us/step - loss: 0.5568 - acc: 0.7958\n",
      "800/800 [==============================] - 0s 67us/step\n",
      "7200/7200 [==============================] - 0s 29us/step\n",
      "Epoch 1/1\n",
      "7200/7200 [==============================] - 1s 103us/step - loss: 0.6026 - acc: 0.7942\n",
      "800/800 [==============================] - 0s 66us/step\n",
      "7200/7200 [==============================] - 0s 24us/step\n",
      "Epoch 1/1\n",
      "7200/7200 [==============================] - 1s 113us/step - loss: 0.5685 - acc: 0.7972\n",
      "800/800 [==============================] - 0s 110us/step\n",
      "7200/7200 [==============================] - 0s 25us/step\n",
      "Epoch 1/1\n",
      "7200/7200 [==============================] - 1s 136us/step - loss: 0.5604 - acc: 0.7929\n",
      "800/800 [==============================] - 0s 108us/step\n",
      "7200/7200 [==============================] - 0s 23us/step\n",
      "Epoch 1/1\n",
      "7200/7200 [==============================] - 1s 128us/step - loss: 0.5514 - acc: 0.7935\n",
      "800/800 [==============================] - 0s 137us/step\n",
      "7200/7200 [==============================] - 0s 33us/step\n",
      "Epoch 1/1\n",
      "7200/7200 [==============================] - 1s 120us/step - loss: 0.5783 - acc: 0.7950\n",
      "800/800 [==============================] - 0s 121us/step\n",
      "7200/7200 [==============================] - 0s 23us/step\n",
      "Epoch 1/1\n",
      "7200/7200 [==============================] - 1s 150us/step - loss: 0.6104 - acc: 0.7936\n",
      "800/800 [==============================] - 0s 336us/step\n",
      "7200/7200 [==============================] - 0s 55us/step\n",
      "Epoch 1/1\n",
      "7200/7200 [==============================] - 1s 145us/step - loss: 0.5612 - acc: 0.7944\n",
      "800/800 [==============================] - 0s 150us/step\n",
      "7200/7200 [==============================] - 0s 20us/step\n",
      "Epoch 1/1\n",
      "7200/7200 [==============================] - 1s 130us/step - loss: 0.5783 - acc: 0.7951\n",
      "800/800 [==============================] - 0s 207us/step\n",
      "7200/7200 [==============================] - 0s 26us/step\n",
      "Epoch 1/1\n",
      "7200/7200 [==============================] - 1s 141us/step - loss: 0.6034 - acc: 0.7961\n",
      "800/800 [==============================] - 0s 281us/step\n",
      "7200/7200 [==============================] - 0s 22us/step\n",
      "Epoch 1/1\n",
      "7200/7200 [==============================] - 1s 127us/step - loss: 0.5633 - acc: 0.7967\n",
      "800/800 [==============================] - 0s 191us/step\n",
      "7200/7200 [==============================] - 0s 25us/step\n",
      "Epoch 1/1\n",
      "7200/7200 [==============================] - 1s 139us/step - loss: 0.5745 - acc: 0.7953\n",
      "800/800 [==============================] - 0s 223us/step\n",
      "7200/7200 [==============================] - 0s 26us/step\n",
      "Epoch 1/1\n",
      "7200/7200 [==============================] - 1s 157us/step - loss: 0.5693 - acc: 0.7969\n",
      "800/800 [==============================] - 0s 216us/step\n",
      "7200/7200 [==============================] - 0s 26us/step\n",
      "Epoch 1/1\n",
      "7200/7200 [==============================] - 1s 169us/step - loss: 0.6071 - acc: 0.7924\n",
      "800/800 [==============================] - ETA:  - 0s 246us/step\n",
      "7200/7200 [==============================] - 0s 25us/step\n",
      "Epoch 1/1\n",
      "7200/7200 [==============================] - 1s 164us/step - loss: 0.5888 - acc: 0.7943\n",
      "800/800 [==============================] - 0s 560us/step\n",
      "7200/7200 [==============================] - 1s 75us/step\n",
      "Epoch 1/1\n",
      "7200/7200 [==============================] - 1s 177us/step - loss: 0.6049 - acc: 0.7946\n",
      "800/800 [==============================] - 0s 291us/step\n",
      "7200/7200 [==============================] - 0s 26us/step\n",
      "Epoch 1/1\n",
      "7200/7200 [==============================] - 1s 174us/step - loss: 0.5665 - acc: 0.7962\n",
      "800/800 [==============================] - 0s 287us/step\n",
      "7200/7200 [==============================] - 0s 27us/step\n",
      "Epoch 1/1\n",
      "7200/7200 [==============================] - 1s 180us/step - loss: 0.6071 - acc: 0.7933\n",
      "800/800 [==============================] - 0s 269us/step\n",
      "7200/7200 [==============================] - 0s 32us/step\n",
      "Epoch 1/1\n",
      "7200/7200 [==============================] - 2s 210us/step - loss: 0.6043 - acc: 0.7954\n",
      "800/800 [==============================] - 0s 355us/step\n",
      "7200/7200 [==============================] - 0s 42us/step\n",
      "Epoch 1/1\n",
      "7200/7200 [==============================] - 2s 267us/step - loss: 0.5909 - acc: 0.7947\n",
      "800/800 [==============================] - 0s 445us/step\n",
      "7200/7200 [==============================] - 0s 37us/step\n",
      "Epoch 1/1\n",
      "7200/7200 [==============================] - 2s 268us/step - loss: 0.6070 - acc: 0.7947\n",
      "800/800 [==============================] - 0s 581us/step\n",
      "7200/7200 [==============================] - 0s 31us/step\n",
      "Epoch 1/1\n",
      "7200/7200 [==============================] - 1s 177us/step - loss: 0.5745 - acc: 0.7947\n",
      "800/800 [==============================] - 0s 420us/step\n",
      "7200/7200 [==============================] - 0s 42us/step\n",
      "Epoch 1/1\n",
      "7200/7200 [==============================] - 1s 187us/step - loss: 0.5653 - acc: 0.7951\n",
      "800/800 [==============================] - 0s 557us/step\n",
      "7200/7200 [==============================] - 0s 35us/step\n",
      "Epoch 1/1\n",
      "7200/7200 [==============================] - 2s 235us/step - loss: 0.5660 - acc: 0.7929\n",
      "800/800 [==============================] - 0s 492us/step\n",
      "7200/7200 [==============================] - 0s 39us/step\n",
      "Epoch 1/1\n",
      "7200/7200 [==============================] - 2s 278us/step - loss: 0.6069 - acc: 0.7921\n",
      "800/800 [==============================] - 0s 595us/step\n",
      "7200/7200 [==============================] - 0s 34us/step\n",
      "Epoch 1/1\n",
      "7200/7200 [==============================] - 2s 215us/step - loss: 0.5737 - acc: 0.7958\n",
      "800/800 [==============================] - 0s 560us/step\n",
      "7200/7200 [==============================] - 0s 41us/step\n",
      "Epoch 1/1\n",
      "7200/7200 [==============================] - 2s 226us/step - loss: 0.5549 - acc: 0.7960\n",
      "800/800 [==============================] - 0s 405us/step\n",
      "7200/7200 [==============================] - 0s 33us/step\n",
      "Epoch 1/1\n",
      "7200/7200 [==============================] - 1s 198us/step - loss: 0.5537 - acc: 0.7935\n",
      "800/800 [==============================] - 0s 423us/step\n",
      "7200/7200 [==============================] - 0s 26us/step\n",
      "Epoch 1/1\n",
      "7200/7200 [==============================] - 2s 241us/step - loss: 0.5675 - acc: 0.7962\n",
      "800/800 [==============================] - 0s 437us/step\n",
      "7200/7200 [==============================] - 0s 25us/step\n",
      "Epoch 1/1\n",
      "7200/7200 [==============================] - 1s 197us/step - loss: 0.6039 - acc: 0.7961\n",
      "800/800 [==============================] - 0s 440us/step\n",
      "7200/7200 [==============================] - 0s 35us/step\n",
      "Epoch 1/1\n",
      "7200/7200 [==============================] - 2s 227us/step - loss: 0.5836 - acc: 0.7950\n",
      "800/800 [==============================] - 0s 471us/step\n",
      "7200/7200 [==============================] - 0s 26us/step\n",
      "Epoch 1/1\n",
      "7200/7200 [==============================] - 2s 228us/step - loss: 0.5693 - acc: 0.7956\n",
      "800/800 [==============================] - 0s 479us/step\n",
      "7200/7200 [==============================] - 0s 28us/step\n",
      "Epoch 1/1\n",
      "7200/7200 [==============================] - 2s 226us/step - loss: 0.5846 - acc: 0.7969\n",
      "800/800 [==============================] - 0s 484us/step\n",
      "7200/7200 [==============================] - 0s 30us/step\n",
      "Epoch 1/1\n",
      "7200/7200 [==============================] - 1s 207us/step - loss: 0.5855 - acc: 0.7928\n",
      "800/800 [==============================] - 0s 486us/step\n",
      "7200/7200 [==============================] - 0s 28us/step\n",
      "Epoch 1/1\n",
      "7200/7200 [==============================] - 2s 237us/step - loss: 0.5906 - acc: 0.7928\n",
      "800/800 [==============================] - 0s 500us/step\n",
      "7200/7200 [==============================] - 0s 28us/step\n",
      "Epoch 1/1\n",
      "7200/7200 [==============================] - 2s 225us/step - loss: 0.5907 - acc: 0.7951\n",
      "800/800 [==============================] - 1s 630us/step\n",
      "7200/7200 [==============================] - 0s 64us/step\n",
      "Epoch 1/1\n",
      "7200/7200 [==============================] - 2s 221us/step - loss: 0.5702 - acc: 0.7956\n",
      "800/800 [==============================] - 0s 533us/step\n",
      "7200/7200 [==============================] - 0s 28us/step\n",
      "Epoch 1/1\n",
      "7200/7200 [==============================] - 2s 223us/step - loss: 0.5793 - acc: 0.7944\n"
     ]
    },
    {
     "name": "stdout",
     "output_type": "stream",
     "text": [
      "800/800 [==============================] - 1s 738us/step\n",
      "7200/7200 [==============================] - 0s 26us/step\n",
      "Epoch 1/1\n",
      "7200/7200 [==============================] - 2s 235us/step - loss: 0.5931 - acc: 0.7950\n",
      "800/800 [==============================] - 0s 552us/step\n",
      "7200/7200 [==============================] - 0s 26us/step\n",
      "Epoch 1/1\n",
      "7200/7200 [==============================] - 2s 253us/step - loss: 0.5791 - acc: 0.7971\n",
      "800/800 [==============================] - 1s 662us/step\n",
      "7200/7200 [==============================] - 0s 24us/step\n",
      "Epoch 1/1\n",
      "7200/7200 [==============================] - 2s 219us/step - loss: 0.5957 - acc: 0.7958\n",
      "800/800 [==============================] - 0s 559us/step\n",
      "7200/7200 [==============================] - 0s 22us/step\n",
      "Epoch 1/1\n",
      "7200/7200 [==============================] - 3s 348us/step - loss: 0.6056 - acc: 0.7931\n",
      "800/800 [==============================] - 1s 713us/step\n",
      "7200/7200 [==============================] - 0s 21us/step\n",
      "Epoch 1/1\n",
      "7200/7200 [==============================] - 2s 270us/step - loss: 0.5832 - acc: 0.7974\n",
      "800/800 [==============================] - 0s 590us/step\n",
      "7200/7200 [==============================] - 0s 47us/step\n",
      "Epoch 1/1\n",
      "7200/7200 [==============================] - 2s 264us/step - loss: 0.5905 - acc: 0.7933\n",
      "800/800 [==============================] - 1s 725us/step\n",
      "7200/7200 [==============================] - 0s 28us/step\n",
      "Epoch 1/1\n",
      "7200/7200 [==============================] - 2s 336us/step - loss: 0.5725 - acc: 0.7944\n",
      "800/800 [==============================] - 1s 667us/step\n",
      "7200/7200 [==============================] - 0s 23us/step\n",
      "Epoch 1/1\n",
      "7200/7200 [==============================] - 2s 293us/step - loss: 0.6066 - acc: 0.7953\n",
      "800/800 [==============================] - 1s 672us/step\n",
      "7200/7200 [==============================] - 0s 32us/step\n",
      "Epoch 1/1\n",
      "7200/7200 [==============================] - 2s 248us/step - loss: 0.6219 - acc: 0.7946\n",
      "800/800 [==============================] - 1s 706us/step\n",
      "7200/7200 [==============================] - 0s 40us/step\n",
      "Epoch 1/1\n",
      "7200/7200 [==============================] - 2s 323us/step - loss: 0.5912 - acc: 0.7932\n",
      "800/800 [==============================] - 1s 758us/step\n",
      "7200/7200 [==============================] - 0s 34us/step\n",
      "Epoch 1/1\n",
      "7200/7200 [==============================] - 2s 240us/step - loss: 0.5805 - acc: 0.7953\n",
      "800/800 [==============================] - 1s 817us/step\n",
      "7200/7200 [==============================] - 0s 36us/step\n",
      "Epoch 1/1\n",
      "7200/7200 [==============================] - 2s 296us/step - loss: 0.6097 - acc: 0.7942\n",
      "800/800 [==============================] - 1s 806us/step\n",
      "7200/7200 [==============================] - 0s 35us/step\n",
      "Epoch 1/1\n",
      "7200/7200 [==============================] - 2s 302us/step - loss: 0.6112 - acc: 0.7958\n",
      "800/800 [==============================] - 1s 664us/step\n",
      "7200/7200 [==============================] - 0s 21us/step\n",
      "Epoch 1/1\n",
      "7200/7200 [==============================] - 2s 240us/step - loss: 0.6191 - acc: 0.7936\n",
      "800/800 [==============================] - 1s 634us/step\n",
      "7200/7200 [==============================] - 0s 21us/step\n",
      "Epoch 1/1\n",
      "7200/7200 [==============================] - 2s 246us/step - loss: 0.6272 - acc: 0.7947\n",
      "800/800 [==============================] - 1s 654us/step\n",
      "7200/7200 [==============================] - 0s 21us/step\n",
      "Epoch 1/1\n",
      "7200/7200 [==============================] - 2s 242us/step - loss: 0.6110 - acc: 0.7925\n",
      "800/800 [==============================] - 1s 734us/step\n",
      "7200/7200 [==============================] - 0s 25us/step\n",
      "Epoch 1/1\n",
      "7200/7200 [==============================] - 2s 248us/step - loss: 0.6008 - acc: 0.7943\n",
      "800/800 [==============================] - 1s 852us/step\n",
      "7200/7200 [==============================] - 0s 41us/step\n",
      "Epoch 1/1\n",
      "7200/7200 [==============================] - 2s 291us/step - loss: 0.6239 - acc: 0.7956\n",
      "800/800 [==============================] - 1s 819us/step\n",
      "7200/7200 [==============================] - 0s 30us/step\n",
      "Epoch 1/1\n",
      "7200/7200 [==============================] - 2s 259us/step - loss: 0.6413 - acc: 0.7936\n",
      "800/800 [==============================] - 1s 750us/step\n",
      "7200/7200 [==============================] - 0s 23us/step\n",
      "Epoch 1/1\n",
      "7200/7200 [==============================] - 2s 281us/step - loss: 0.6274 - acc: 0.7942\n",
      "800/800 [==============================] - 1s 838us/step\n",
      "7200/7200 [==============================] - 0s 30us/step\n",
      "Epoch 1/1\n",
      "7200/7200 [==============================] - 2s 322us/step - loss: 0.6459 - acc: 0.7937\n",
      "800/800 [==============================] - 1s 1ms/step\n",
      "7200/7200 [==============================] - 0s 28us/step\n",
      "Epoch 1/1\n",
      "7200/7200 [==============================] - 2s 268us/step - loss: 0.5836 - acc: 0.7960\n",
      "800/800 [==============================] - 1s 763us/step\n",
      "7200/7200 [==============================] - 0s 27us/step\n",
      "Epoch 1/1\n",
      "7200/7200 [==============================] - 2s 295us/step - loss: 0.5860 - acc: 0.7962\n",
      "800/800 [==============================] - 1s 820us/step\n",
      "7200/7200 [==============================] - 0s 36us/step\n",
      "Epoch 1/1\n",
      "7200/7200 [==============================] - 2s 323us/step - loss: 0.6130 - acc: 0.7928\n",
      "800/800 [==============================] - 1s 827us/step\n",
      "7200/7200 [==============================] - 0s 30us/step\n",
      "Epoch 1/1\n",
      "7200/7200 [==============================] - 2s 309us/step - loss: 0.5793 - acc: 0.7972\n",
      "800/800 [==============================] - 1s 837us/step\n",
      "7200/7200 [==============================] - 0s 45us/step\n",
      "Epoch 1/1\n",
      "7200/7200 [==============================] - 2s 297us/step - loss: 0.5885 - acc: 0.7937\n",
      "800/800 [==============================] - 1s 840us/step\n",
      "7200/7200 [==============================] - 0s 30us/step\n",
      "Epoch 1/1\n",
      "7200/7200 [==============================] - 3s 356us/step - loss: 0.6006 - acc: 0.7917\n",
      "800/800 [==============================] - 1s 1ms/step\n",
      "7200/7200 [==============================] - 0s 39us/step\n",
      "Epoch 1/1\n",
      "7200/7200 [==============================] - 3s 386us/step - loss: 0.6635 - acc: 0.7956\n",
      "800/800 [==============================] - 1s 1ms/step\n",
      "7200/7200 [==============================] - 0s 34us/step\n",
      "Epoch 1/1\n",
      "7200/7200 [==============================] - 4s 512us/step - loss: 0.5905 - acc: 0.7965\n",
      "800/800 [==============================] - 1s 1ms/step\n",
      "7200/7200 [==============================] - 0s 58us/step\n",
      "Epoch 1/1\n",
      "7200/7200 [==============================] - 3s 387us/step - loss: 0.5906 - acc: 0.7953\n",
      "800/800 [==============================] - 1s 1ms/step\n",
      "7200/7200 [==============================] - 0s 35us/step\n",
      "Epoch 1/1\n",
      "7200/7200 [==============================] - 3s 367us/step - loss: 0.5934 - acc: 0.7956\n",
      "800/800 [==============================] - 1s 1ms/step\n",
      "7200/7200 [==============================] - 0s 53us/step\n",
      "Epoch 1/1\n",
      "7200/7200 [==============================] - 2s 325us/step - loss: 0.5886 - acc: 0.7971\n",
      "800/800 [==============================] - 1s 1ms/step\n",
      "7200/7200 [==============================] - 0s 40us/step\n",
      "Epoch 1/1\n",
      "7200/7200 [==============================] - 2s 325us/step - loss: 0.6079 - acc: 0.7956\n",
      "800/800 [==============================] - 1s 865us/step\n",
      "7200/7200 [==============================] - 0s 26us/step\n",
      "Epoch 1/1\n",
      "7200/7200 [==============================] - 2s 321us/step - loss: 0.6236 - acc: 0.7929\n",
      "800/800 [==============================] - 1s 912us/step\n",
      "7200/7200 [==============================] - 0s 29us/step\n",
      "Epoch 1/1\n",
      "7200/7200 [==============================] - 2s 328us/step - loss: 0.6211 - acc: 0.7957\n",
      "800/800 [==============================] - 1s 912us/step\n",
      "7200/7200 [==============================] - 0s 29us/step\n",
      "Epoch 1/1\n",
      "7200/7200 [==============================] - 3s 374us/step - loss: 0.6072 - acc: 0.7924\n",
      "800/800 [==============================] - 1s 948us/step\n",
      "7200/7200 [==============================] - 0s 29us/step\n",
      "Epoch 1/1\n",
      "7200/7200 [==============================] - 2s 305us/step - loss: 0.5941 - acc: 0.7937\n",
      "800/800 [==============================] - 1s 901us/step\n",
      "7200/7200 [==============================] - 0s 31us/step\n",
      "Epoch 1/1\n",
      "7200/7200 [==============================] - 2s 304us/step - loss: 0.6050 - acc: 0.7954\n",
      "800/800 [==============================] - 1s 989us/step\n",
      "7200/7200 [==============================] - 0s 33us/step\n"
     ]
    },
    {
     "name": "stdout",
     "output_type": "stream",
     "text": [
      "Epoch 1/1\n",
      "7200/7200 [==============================] - 3s 367us/step - loss: 0.6020 - acc: 0.7957\n",
      "800/800 [==============================] - 1s 1ms/step\n",
      "7200/7200 [==============================] - 0s 33us/step\n",
      "Epoch 1/1\n",
      "7200/7200 [==============================] - 3s 364us/step - loss: 0.5750 - acc: 0.7957\n",
      "800/800 [==============================] - 1s 986us/step\n",
      "7200/7200 [==============================] - 0s 28us/step\n",
      "Epoch 1/1\n",
      "7200/7200 [==============================] - 2s 328us/step - loss: 0.6124 - acc: 0.7943\n",
      "800/800 [==============================] - 1s 1ms/step\n",
      "7200/7200 [==============================] - 0s 37us/step\n",
      "Epoch 1/1\n",
      "8000/8000 [==============================] - 3s 364us/step - loss: 0.5636 - acc: 0.7946\n"
     ]
    }
   ],
   "source": [
    "grid_search = grid_search.fit(X_train,y_train)"
   ]
  },
  {
   "cell_type": "code",
   "execution_count": 14,
   "metadata": {
    "collapsed": true
   },
   "outputs": [],
   "source": [
    "best_parameters = grid_search.best_params_\n",
    "best_accuracy = grid_search.best_score_"
   ]
  },
  {
   "cell_type": "code",
   "execution_count": 15,
   "metadata": {},
   "outputs": [
    {
     "data": {
      "text/plain": [
       "0.79600000000000004"
      ]
     },
     "execution_count": 15,
     "metadata": {},
     "output_type": "execute_result"
    }
   ],
   "source": [
    "best_accuracy"
   ]
  },
  {
   "cell_type": "code",
   "execution_count": 16,
   "metadata": {},
   "outputs": [
    {
     "data": {
      "text/plain": [
       "0.79600000000000004"
      ]
     },
     "execution_count": 16,
     "metadata": {},
     "output_type": "execute_result"
    }
   ],
   "source": [
    "best_accuracy"
   ]
  },
  {
   "cell_type": "code",
   "execution_count": 46,
   "metadata": {},
   "outputs": [
    {
     "data": {
      "text/plain": [
       "{'batch_size': 25, 'nb_epoch': 100, 'optimizer': 'adam'}"
      ]
     },
     "execution_count": 46,
     "metadata": {},
     "output_type": "execute_result"
    }
   ],
   "source": [
    "best_parameters"
   ]
  },
  {
   "cell_type": "code",
   "execution_count": null,
   "metadata": {
    "collapsed": true
   },
   "outputs": [],
   "source": []
  }
 ],
 "metadata": {
  "kernelspec": {
   "display_name": "Python 3",
   "language": "python",
   "name": "python3"
  },
  "language_info": {
   "codemirror_mode": {
    "name": "ipython",
    "version": 3
   },
   "file_extension": ".py",
   "mimetype": "text/x-python",
   "name": "python",
   "nbconvert_exporter": "python",
   "pygments_lexer": "ipython3",
   "version": "3.5.4"
  }
 },
 "nbformat": 4,
 "nbformat_minor": 2
}
